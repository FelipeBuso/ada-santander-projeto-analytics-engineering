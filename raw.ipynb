{
 "cells": [
  {
   "cell_type": "code",
   "execution_count": 2,
   "metadata": {},
   "outputs": [],
   "source": [
    "from utils.read_data import ReadFile\n",
    "import pandas as pd\n",
    "import numpy as np\n",
    "from utils.utils import only_number\n",
    "from sqlalchemy import create_engine\n",
    "import os\n",
    "from orm_sqlalchemy.index import DatabaseHandler\n"
   ]
  },
  {
   "cell_type": "code",
   "execution_count": 3,
   "metadata": {},
   "outputs": [],
   "source": [
    "read_file = ReadFile()\n",
    "db = DatabaseHandler()"
   ]
  },
  {
   "cell_type": "code",
   "execution_count": 4,
   "metadata": {},
   "outputs": [],
   "source": [
    "df_listing = read_file.read_csv_to_dataframe(directory=\"data\", file_name=\"listings.csv.gz\", compression='gzip')\n",
    "db.dataframe_to_sql(table=\"listings\", df=df_listing, schema='raw')"
   ]
  },
  {
   "cell_type": "code",
   "execution_count": 5,
   "metadata": {},
   "outputs": [],
   "source": [
    "df_review = read_file.read_csv_to_dataframe(directory=\"data\", file_name=\"reviews.csv.gz\", compression='gzip')\n",
    "db.dataframe_to_sql(table=\"reviews\", df=df_review, schema='raw')"
   ]
  },
  {
   "cell_type": "code",
   "execution_count": 6,
   "metadata": {},
   "outputs": [],
   "source": [
    "df_calendar = read_file.read_csv_to_dataframe(directory=\"data\", file_name=\"calendar.csv.gz\", compression='gzip')\n",
    "db.dataframe_to_sql(table=\"calendars\", df=df_calendar, schema='raw')"
   ]
  },
  {
   "cell_type": "code",
   "execution_count": null,
   "metadata": {},
   "outputs": [],
   "source": [
    "for col in df.columns:\n",
    "    print(f\" Coluna {col} - type: {df[col].dtypes} - qtde de nan: {df[col].isna().sum()}\")"
   ]
  },
  {
   "cell_type": "code",
   "execution_count": null,
   "metadata": {},
   "outputs": [],
   "source": [
    "df = df.replace(np.nan, 0)"
   ]
  },
  {
   "cell_type": "code",
   "execution_count": null,
   "metadata": {},
   "outputs": [],
   "source": [
    "df['price'] = df['price'].apply(only_number)\n",
    "df['adjusted_price'] = df['adjusted_price'].apply(only_number)\n",
    "df.head()"
   ]
  },
  {
   "cell_type": "code",
   "execution_count": null,
   "metadata": {},
   "outputs": [],
   "source": [
    "dataframe_to_sql(table=\"calendars\", dataframe=df, schema='raw')"
   ]
  },
  {
   "cell_type": "code",
   "execution_count": null,
   "metadata": {},
   "outputs": [],
   "source": [
    "df['available'].replace({\"t\": True, \"f\":False}, inplace=True)"
   ]
  },
  {
   "cell_type": "code",
   "execution_count": null,
   "metadata": {},
   "outputs": [],
   "source": [
    "df.info()"
   ]
  }
 ],
 "metadata": {
  "kernelspec": {
   "display_name": ".venv",
   "language": "python",
   "name": "python3"
  },
  "language_info": {
   "codemirror_mode": {
    "name": "ipython",
    "version": 3
   },
   "file_extension": ".py",
   "mimetype": "text/x-python",
   "name": "python",
   "nbconvert_exporter": "python",
   "pygments_lexer": "ipython3",
   "version": "3.8.10"
  }
 },
 "nbformat": 4,
 "nbformat_minor": 2
}
