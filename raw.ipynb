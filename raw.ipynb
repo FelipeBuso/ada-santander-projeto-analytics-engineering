{
 "cells": [
  {
   "cell_type": "code",
   "execution_count": 1,
   "metadata": {},
   "outputs": [],
   "source": [
    "import pandas as pd\n",
    "from orm_sqlalchemy.index import DatabaseHandler\n",
    "from utils.read_data import ReadFile\n"
   ]
  },
  {
   "cell_type": "code",
   "execution_count": 2,
   "metadata": {},
   "outputs": [
    {
     "name": "stdout",
     "output_type": "stream",
     "text": [
      "Finish listings table\n"
     ]
    }
   ],
   "source": [
    "db = DatabaseHandler()\n",
    "read_file = ReadFile()\n",
    "nomes_arquivos = ['listings', 'calendar', 'reviews']\n",
    "for nome in nomes_arquivos:\n",
    "    df = pd.read_csv(f'./data/{nome}.csv.gz', compression='gzip')\n",
    "    db.dataframe_to_sql(table=nome, df=df, schema='raw')\n",
    "    print(f\"Finish {nome} table\")"
   ]
  }
 ],
 "metadata": {
  "kernelspec": {
   "display_name": ".venv",
   "language": "python",
   "name": "python3"
  },
  "language_info": {
   "codemirror_mode": {
    "name": "ipython",
    "version": 3
   },
   "file_extension": ".py",
   "mimetype": "text/x-python",
   "name": "python",
   "nbconvert_exporter": "python",
   "pygments_lexer": "ipython3",
   "version": "3.8.10"
  }
 },
 "nbformat": 4,
 "nbformat_minor": 2
}
