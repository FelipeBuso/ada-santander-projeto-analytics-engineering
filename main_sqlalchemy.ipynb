{
 "cells": [
  {
   "cell_type": "code",
   "execution_count": 1,
   "metadata": {},
   "outputs": [
    {
     "ename": "ArgumentError",
     "evalue": "'SchemaItem' object, such as a 'Column' or a 'Constraint' expected, got <class 'sqlalchemy.sql.sqltypes.BigInteger'>",
     "output_type": "error",
     "traceback": [
      "\u001b[0;31m---------------------------------------------------------------------------\u001b[0m",
      "\u001b[0;31mAttributeError\u001b[0m                            Traceback (most recent call last)",
      "File \u001b[0;32m~/adatech/data-engineer/analytics_engineering/projeto/.venv/lib/python3.8/site-packages/sqlalchemy/sql/schema.py:224\u001b[0m, in \u001b[0;36mSchemaItem._init_items\u001b[0;34m(self, *args, **kw)\u001b[0m\n\u001b[1;32m    223\u001b[0m \u001b[39mtry\u001b[39;00m:\n\u001b[0;32m--> 224\u001b[0m     spwd \u001b[39m=\u001b[39m item\u001b[39m.\u001b[39;49m_set_parent_with_dispatch\n\u001b[1;32m    225\u001b[0m \u001b[39mexcept\u001b[39;00m \u001b[39mAttributeError\u001b[39;00m \u001b[39mas\u001b[39;00m err:\n",
      "\u001b[0;31mAttributeError\u001b[0m: type object 'BigInteger' has no attribute '_set_parent_with_dispatch'",
      "\nThe above exception was the direct cause of the following exception:\n",
      "\u001b[0;31mArgumentError\u001b[0m                             Traceback (most recent call last)",
      "\u001b[1;32m/home/felipe/adatech/data-engineer/analytics_engineering/projeto/main_sqlalchemy.ipynb Cell 1\u001b[0m line \u001b[0;36m1\n\u001b[0;32m----> <a href='vscode-notebook-cell:/home/felipe/adatech/data-engineer/analytics_engineering/projeto/main_sqlalchemy.ipynb#W0sZmlsZQ%3D%3D?line=0'>1</a>\u001b[0m \u001b[39mfrom\u001b[39;00m \u001b[39morm_sqlalchemy\u001b[39;00m\u001b[39m.\u001b[39;00m\u001b[39mindex\u001b[39;00m \u001b[39mimport\u001b[39;00m DatabaseHandler\n\u001b[1;32m      <a href='vscode-notebook-cell:/home/felipe/adatech/data-engineer/analytics_engineering/projeto/main_sqlalchemy.ipynb#W0sZmlsZQ%3D%3D?line=1'>2</a>\u001b[0m \u001b[39mfrom\u001b[39;00m \u001b[39mutils\u001b[39;00m\u001b[39m.\u001b[39;00m\u001b[39mread_data\u001b[39;00m \u001b[39mimport\u001b[39;00m ReadFile\n\u001b[1;32m      <a href='vscode-notebook-cell:/home/felipe/adatech/data-engineer/analytics_engineering/projeto/main_sqlalchemy.ipynb#W0sZmlsZQ%3D%3D?line=2'>3</a>\u001b[0m \u001b[39mimport\u001b[39;00m \u001b[39mpandas\u001b[39;00m \u001b[39mas\u001b[39;00m \u001b[39mpd\u001b[39;00m\n",
      "File \u001b[0;32m~/adatech/data-engineer/analytics_engineering/projeto/orm_sqlalchemy/index.py:105\u001b[0m\n\u001b[1;32m    101\u001b[0m     \u001b[39mdef\u001b[39;00m \u001b[39m__repr__\u001b[39m(\u001b[39mself\u001b[39m) \u001b[39m-\u001b[39m\u001b[39m>\u001b[39m \u001b[39mstr\u001b[39m:\n\u001b[1;32m    102\u001b[0m         \u001b[39mreturn\u001b[39;00m \u001b[39mf\u001b[39m\u001b[39m\"\u001b[39m\u001b[39mlistining(id=\u001b[39m\u001b[39m{\u001b[39;00m\u001b[39mself\u001b[39m\u001b[39m.\u001b[39mid\u001b[39m!r}\u001b[39;00m\u001b[39m, listining_id=\u001b[39m\u001b[39m{\u001b[39;00m\u001b[39mself\u001b[39m\u001b[39m.\u001b[39mlistining_id\u001b[39m!r}\u001b[39;00m\u001b[39m, listing_url=\u001b[39m\u001b[39m{\u001b[39;00m\u001b[39mself\u001b[39m\u001b[39m.\u001b[39mlisting_url\u001b[39m!r}\u001b[39;00m\u001b[39m)\u001b[39m\u001b[39m\"\u001b[39m\n\u001b[0;32m--> 105\u001b[0m \u001b[39mclass\u001b[39;00m \u001b[39mReviews\u001b[39;00m(Base):\n\u001b[1;32m    106\u001b[0m     __tablename__ \u001b[39m=\u001b[39m \u001b[39m\"\u001b[39m\u001b[39mreviews\u001b[39m\u001b[39m\"\u001b[39m\n\u001b[1;32m    108\u001b[0m     \u001b[39mid\u001b[39m: Mapped[\u001b[39mint\u001b[39m] \u001b[39m=\u001b[39m mapped_column(primary_key\u001b[39m=\u001b[39m\u001b[39mTrue\u001b[39;00m)\n",
      "File \u001b[0;32m~/adatech/data-engineer/analytics_engineering/projeto/orm_sqlalchemy/index.py:109\u001b[0m, in \u001b[0;36mReviews\u001b[0;34m()\u001b[0m\n\u001b[1;32m    106\u001b[0m __tablename__ \u001b[39m=\u001b[39m \u001b[39m\"\u001b[39m\u001b[39mreviews\u001b[39m\u001b[39m\"\u001b[39m\n\u001b[1;32m    108\u001b[0m \u001b[39mid\u001b[39m: Mapped[\u001b[39mint\u001b[39m] \u001b[39m=\u001b[39m mapped_column(primary_key\u001b[39m=\u001b[39m\u001b[39mTrue\u001b[39;00m)\n\u001b[0;32m--> 109\u001b[0m listing_id: Mapped[\u001b[39mint\u001b[39m] \u001b[39m=\u001b[39m mapped_column(ForeignKey(\u001b[39m\"\u001b[39;49m\u001b[39mlistining.id\u001b[39;49m\u001b[39m\"\u001b[39;49m), BigInteger)\n\u001b[1;32m    110\u001b[0m date: Mapped[\u001b[39mstr\u001b[39m]\n\u001b[1;32m    111\u001b[0m reviewer_id: Mapped[\u001b[39mint\u001b[39m] \u001b[39m=\u001b[39m mapped_column(BigInteger)\n",
      "File \u001b[0;32m~/adatech/data-engineer/analytics_engineering/projeto/.venv/lib/python3.8/site-packages/sqlalchemy/orm/_orm_constructors.py:314\u001b[0m, in \u001b[0;36mmapped_column\u001b[0;34m(__name_pos, __type_pos, init, repr, default, default_factory, compare, kw_only, nullable, primary_key, deferred, deferred_group, deferred_raiseload, use_existing_column, name, type_, autoincrement, doc, key, index, unique, info, onupdate, insert_default, server_default, server_onupdate, active_history, quote, system, comment, sort_order, *args, **kw)\u001b[0m\n\u001b[1;32m     97\u001b[0m \u001b[39mdef\u001b[39;00m \u001b[39mmapped_column\u001b[39m(\n\u001b[1;32m     98\u001b[0m     __name_pos: Optional[\n\u001b[1;32m     99\u001b[0m         Union[\u001b[39mstr\u001b[39m, _TypeEngineArgument[Any], SchemaEventTarget]\n\u001b[0;32m   (...)\u001b[0m\n\u001b[1;32m    136\u001b[0m     \u001b[39m*\u001b[39m\u001b[39m*\u001b[39mkw: Any,\n\u001b[1;32m    137\u001b[0m ) \u001b[39m-\u001b[39m\u001b[39m>\u001b[39m MappedColumn[Any]:\n\u001b[1;32m    138\u001b[0m \u001b[39m    \u001b[39m\u001b[39mr\u001b[39m\u001b[39m\"\"\"declare a new ORM-mapped :class:`_schema.Column` construct\u001b[39;00m\n\u001b[1;32m    139\u001b[0m \u001b[39m    for use within :ref:`Declarative Table <orm_declarative_table>`\u001b[39;00m\n\u001b[1;32m    140\u001b[0m \u001b[39m    configuration.\u001b[39;00m\n\u001b[0;32m   (...)\u001b[0m\n\u001b[1;32m    311\u001b[0m \n\u001b[1;32m    312\u001b[0m \u001b[39m    \"\"\"\u001b[39;00m\n\u001b[0;32m--> 314\u001b[0m     \u001b[39mreturn\u001b[39;00m MappedColumn(\n\u001b[1;32m    315\u001b[0m         __name_pos,\n\u001b[1;32m    316\u001b[0m         __type_pos,\n\u001b[1;32m    317\u001b[0m         \u001b[39m*\u001b[39;49margs,\n\u001b[1;32m    318\u001b[0m         name\u001b[39m=\u001b[39;49mname,\n\u001b[1;32m    319\u001b[0m         type_\u001b[39m=\u001b[39;49mtype_,\n\u001b[1;32m    320\u001b[0m         autoincrement\u001b[39m=\u001b[39;49mautoincrement,\n\u001b[1;32m    321\u001b[0m         insert_default\u001b[39m=\u001b[39;49minsert_default,\n\u001b[1;32m    322\u001b[0m         attribute_options\u001b[39m=\u001b[39;49m_AttributeOptions(\n\u001b[1;32m    323\u001b[0m             init, \u001b[39mrepr\u001b[39;49m, default, default_factory, compare, kw_only\n\u001b[1;32m    324\u001b[0m         ),\n\u001b[1;32m    325\u001b[0m         doc\u001b[39m=\u001b[39;49mdoc,\n\u001b[1;32m    326\u001b[0m         key\u001b[39m=\u001b[39;49mkey,\n\u001b[1;32m    327\u001b[0m         index\u001b[39m=\u001b[39;49mindex,\n\u001b[1;32m    328\u001b[0m         unique\u001b[39m=\u001b[39;49munique,\n\u001b[1;32m    329\u001b[0m         info\u001b[39m=\u001b[39;49minfo,\n\u001b[1;32m    330\u001b[0m         active_history\u001b[39m=\u001b[39;49mactive_history,\n\u001b[1;32m    331\u001b[0m         nullable\u001b[39m=\u001b[39;49mnullable,\n\u001b[1;32m    332\u001b[0m         onupdate\u001b[39m=\u001b[39;49monupdate,\n\u001b[1;32m    333\u001b[0m         primary_key\u001b[39m=\u001b[39;49mprimary_key,\n\u001b[1;32m    334\u001b[0m         server_default\u001b[39m=\u001b[39;49mserver_default,\n\u001b[1;32m    335\u001b[0m         server_onupdate\u001b[39m=\u001b[39;49mserver_onupdate,\n\u001b[1;32m    336\u001b[0m         use_existing_column\u001b[39m=\u001b[39;49muse_existing_column,\n\u001b[1;32m    337\u001b[0m         quote\u001b[39m=\u001b[39;49mquote,\n\u001b[1;32m    338\u001b[0m         comment\u001b[39m=\u001b[39;49mcomment,\n\u001b[1;32m    339\u001b[0m         system\u001b[39m=\u001b[39;49msystem,\n\u001b[1;32m    340\u001b[0m         deferred\u001b[39m=\u001b[39;49mdeferred,\n\u001b[1;32m    341\u001b[0m         deferred_group\u001b[39m=\u001b[39;49mdeferred_group,\n\u001b[1;32m    342\u001b[0m         deferred_raiseload\u001b[39m=\u001b[39;49mdeferred_raiseload,\n\u001b[1;32m    343\u001b[0m         sort_order\u001b[39m=\u001b[39;49msort_order,\n\u001b[1;32m    344\u001b[0m         \u001b[39m*\u001b[39;49m\u001b[39m*\u001b[39;49mkw,\n\u001b[1;32m    345\u001b[0m     )\n",
      "File \u001b[0;32m~/adatech/data-engineer/analytics_engineering/projeto/.venv/lib/python3.8/site-packages/sqlalchemy/orm/properties.py:585\u001b[0m, in \u001b[0;36mMappedColumn.__init__\u001b[0;34m(self, *arg, **kw)\u001b[0m\n\u001b[1;32m    582\u001b[0m \u001b[39mself\u001b[39m\u001b[39m.\u001b[39mactive_history \u001b[39m=\u001b[39m kw\u001b[39m.\u001b[39mpop(\u001b[39m\"\u001b[39m\u001b[39mactive_history\u001b[39m\u001b[39m\"\u001b[39m, \u001b[39mFalse\u001b[39;00m)\n\u001b[1;32m    584\u001b[0m \u001b[39mself\u001b[39m\u001b[39m.\u001b[39m_sort_order \u001b[39m=\u001b[39m kw\u001b[39m.\u001b[39mpop(\u001b[39m\"\u001b[39m\u001b[39msort_order\u001b[39m\u001b[39m\"\u001b[39m, _NoArg\u001b[39m.\u001b[39mNO_ARG)\n\u001b[0;32m--> 585\u001b[0m \u001b[39mself\u001b[39m\u001b[39m.\u001b[39mcolumn \u001b[39m=\u001b[39m cast(\u001b[39m\"\u001b[39m\u001b[39mColumn[_T]\u001b[39m\u001b[39m\"\u001b[39m, Column(\u001b[39m*\u001b[39;49marg, \u001b[39m*\u001b[39;49m\u001b[39m*\u001b[39;49mkw))\n\u001b[1;32m    586\u001b[0m \u001b[39mself\u001b[39m\u001b[39m.\u001b[39mforeign_keys \u001b[39m=\u001b[39m \u001b[39mself\u001b[39m\u001b[39m.\u001b[39mcolumn\u001b[39m.\u001b[39mforeign_keys\n\u001b[1;32m    587\u001b[0m \u001b[39mself\u001b[39m\u001b[39m.\u001b[39m_has_nullable \u001b[39m=\u001b[39m \u001b[39m\"\u001b[39m\u001b[39mnullable\u001b[39m\u001b[39m\"\u001b[39m \u001b[39min\u001b[39;00m kw \u001b[39mand\u001b[39;00m kw\u001b[39m.\u001b[39mget(\u001b[39m\"\u001b[39m\u001b[39mnullable\u001b[39m\u001b[39m\"\u001b[39m) \u001b[39mnot\u001b[39;00m \u001b[39min\u001b[39;00m (\n\u001b[1;32m    588\u001b[0m     \u001b[39mNone\u001b[39;00m,\n\u001b[1;32m    589\u001b[0m     SchemaConst\u001b[39m.\u001b[39mNULL_UNSPECIFIED,\n\u001b[1;32m    590\u001b[0m )\n",
      "File \u001b[0;32m~/adatech/data-engineer/analytics_engineering/projeto/.venv/lib/python3.8/site-packages/sqlalchemy/sql/schema.py:2150\u001b[0m, in \u001b[0;36mColumn.__init__\u001b[0;34m(***failed resolving arguments***)\u001b[0m\n\u001b[1;32m   2147\u001b[0m         l_args\u001b[39m.\u001b[39mappend(server_onupdate)\n\u001b[1;32m   2148\u001b[0m \u001b[39mself\u001b[39m\u001b[39m.\u001b[39mserver_onupdate \u001b[39m=\u001b[39m server_onupdate\n\u001b[0;32m-> 2150\u001b[0m \u001b[39mself\u001b[39;49m\u001b[39m.\u001b[39;49m_init_items(\u001b[39m*\u001b[39;49mcast(_typing_Sequence[SchemaItem], l_args))\n\u001b[1;32m   2152\u001b[0m util\u001b[39m.\u001b[39mset_creation_order(\u001b[39mself\u001b[39m)\n\u001b[1;32m   2154\u001b[0m \u001b[39mif\u001b[39;00m info \u001b[39mis\u001b[39;00m \u001b[39mnot\u001b[39;00m \u001b[39mNone\u001b[39;00m:\n",
      "File \u001b[0;32m~/adatech/data-engineer/analytics_engineering/projeto/.venv/lib/python3.8/site-packages/sqlalchemy/sql/schema.py:226\u001b[0m, in \u001b[0;36mSchemaItem._init_items\u001b[0;34m(self, *args, **kw)\u001b[0m\n\u001b[1;32m    224\u001b[0m     spwd \u001b[39m=\u001b[39m item\u001b[39m.\u001b[39m_set_parent_with_dispatch\n\u001b[1;32m    225\u001b[0m \u001b[39mexcept\u001b[39;00m \u001b[39mAttributeError\u001b[39;00m \u001b[39mas\u001b[39;00m err:\n\u001b[0;32m--> 226\u001b[0m     \u001b[39mraise\u001b[39;00m exc\u001b[39m.\u001b[39mArgumentError(\n\u001b[1;32m    227\u001b[0m         \u001b[39m\"\u001b[39m\u001b[39m'\u001b[39m\u001b[39mSchemaItem\u001b[39m\u001b[39m'\u001b[39m\u001b[39m object, such as a \u001b[39m\u001b[39m'\u001b[39m\u001b[39mColumn\u001b[39m\u001b[39m'\u001b[39m\u001b[39m or a \u001b[39m\u001b[39m\"\u001b[39m\n\u001b[1;32m    228\u001b[0m         \u001b[39m\"\u001b[39m\u001b[39m'\u001b[39m\u001b[39mConstraint\u001b[39m\u001b[39m'\u001b[39m\u001b[39m expected, got \u001b[39m\u001b[39m%r\u001b[39;00m\u001b[39m\"\u001b[39m \u001b[39m%\u001b[39m item\n\u001b[1;32m    229\u001b[0m     ) \u001b[39mfrom\u001b[39;00m \u001b[39merr\u001b[39;00m\n\u001b[1;32m    230\u001b[0m \u001b[39melse\u001b[39;00m:\n\u001b[1;32m    231\u001b[0m     spwd(\u001b[39mself\u001b[39m, \u001b[39m*\u001b[39m\u001b[39m*\u001b[39mkw)\n",
      "\u001b[0;31mArgumentError\u001b[0m: 'SchemaItem' object, such as a 'Column' or a 'Constraint' expected, got <class 'sqlalchemy.sql.sqltypes.BigInteger'>"
     ]
    }
   ],
   "source": [
    "from orm_sqlalchemy.index import DatabaseHandler\n",
    "from utils.read_data import ReadFile\n",
    "import pandas as pd\n",
    "import numpy as np\n"
   ]
  },
  {
   "cell_type": "code",
   "execution_count": null,
   "metadata": {},
   "outputs": [],
   "source": [
    "db = DatabaseHandler()\n",
    "db.connect()"
   ]
  },
  {
   "cell_type": "code",
   "execution_count": null,
   "metadata": {},
   "outputs": [],
   "source": [
    "query_result = db.execute_query('SELECT * FROM listining')"
   ]
  },
  {
   "cell_type": "code",
   "execution_count": null,
   "metadata": {},
   "outputs": [],
   "source": [
    "query_result"
   ]
  },
  {
   "cell_type": "code",
   "execution_count": null,
   "metadata": {},
   "outputs": [],
   "source": [
    "read_file = ReadFile()\n",
    "df = read_file.read_csv_to_dataframe(directory=\"data\", file_name=\"reviews.csv.gz\", compression='gzip')\n"
   ]
  },
  {
   "cell_type": "code",
   "execution_count": null,
   "metadata": {},
   "outputs": [],
   "source": [
    "\n",
    "for col in df.columns:\n",
    "    print(f\" Coluna {col} - type: {df[col].dtypes} - qtde de nan: {df[col].isna().sum()}\")"
   ]
  },
  {
   "cell_type": "code",
   "execution_count": null,
   "metadata": {},
   "outputs": [],
   "source": [
    "df.head()"
   ]
  },
  {
   "cell_type": "code",
   "execution_count": null,
   "metadata": {},
   "outputs": [],
   "source": [
    "data = df.to_dict(orient=\"records\")"
   ]
  },
  {
   "cell_type": "code",
   "execution_count": null,
   "metadata": {},
   "outputs": [],
   "source": [
    "len(data)"
   ]
  },
  {
   "cell_type": "code",
   "execution_count": null,
   "metadata": {},
   "outputs": [],
   "source": [
    "db.post_reviews(data[5:6])"
   ]
  },
  {
   "cell_type": "code",
   "execution_count": 2,
   "metadata": {},
   "outputs": [
    {
     "ename": "NameError",
     "evalue": "name 'db' is not defined",
     "output_type": "error",
     "traceback": [
      "\u001b[0;31m---------------------------------------------------------------------------\u001b[0m",
      "\u001b[0;31mNameError\u001b[0m                                 Traceback (most recent call last)",
      "\u001b[1;32m/home/felipe/adatech/data-engineer/analytics_engineering/projeto/main_sqlalchemy.ipynb Cell 11\u001b[0m line \u001b[0;36m1\n\u001b[0;32m----> <a href='vscode-notebook-cell:/home/felipe/adatech/data-engineer/analytics_engineering/projeto/main_sqlalchemy.ipynb#X11sZmlsZQ%3D%3D?line=0'>1</a>\u001b[0m db\u001b[39m.\u001b[39mcreate_tables()\n",
      "\u001b[0;31mNameError\u001b[0m: name 'db' is not defined"
     ]
    }
   ],
   "source": [
    "db.create_tables()"
   ]
  },
  {
   "cell_type": "code",
   "execution_count": null,
   "metadata": {},
   "outputs": [],
   "source": [
    "\n",
    "read_file = ReadFile()\n",
    "df_listining = read_file.read_csv_to_dataframe(directory=\"data\", file_name=\"listings.csv.gz\", compression='gzip')\n",
    "pd.set_option('display.max_columns', None)\n",
    "pd.set_option('display.max_rows', None)"
   ]
  },
  {
   "cell_type": "code",
   "execution_count": null,
   "metadata": {},
   "outputs": [],
   "source": [
    "boolean_column = [\"host_is_superhost\", \"host_has_profile_pic\",\t\"host_identity_verified\", \"has_availability\", \"instant_bookable\"]\n",
    "for column in boolean_column:\n",
    "    print(column)\n",
    "    df_listining[column].replace({\"t\": True, \"f\": False, np.nan: False}, inplace=True)\n",
    "\n",
    "df_listining.head()"
   ]
  },
  {
   "cell_type": "code",
   "execution_count": null,
   "metadata": {},
   "outputs": [],
   "source": [
    "for col in df_listining.columns:\n",
    "    if df_listining[col].dtypes == 'int64' or df_listining[col].dtypes == 'float64':\n",
    "        df_listining[col].replace(np.nan, 0, inplace=True)\n",
    "    else:\n",
    "        df_listining[col].replace(np.nan, \"\", inplace=True)\n",
    "        \n",
    "\n",
    "df_listining.info()"
   ]
  },
  {
   "cell_type": "code",
   "execution_count": null,
   "metadata": {},
   "outputs": [],
   "source": [
    "for col in df_listining.columns:\n",
    "    print(f\" Coluna {col} - type: {df_listining[col].dtypes} - qtde de nan: {df_listining[col].isna().sum()}\")\n"
   ]
  },
  {
   "cell_type": "code",
   "execution_count": null,
   "metadata": {},
   "outputs": [],
   "source": [
    "data_listining = df_listining.to_dict(orient=\"records\")"
   ]
  },
  {
   "cell_type": "code",
   "execution_count": null,
   "metadata": {},
   "outputs": [],
   "source": [
    "db.post_listining(data_listining[500:1000])"
   ]
  },
  {
   "cell_type": "code",
   "execution_count": null,
   "metadata": {},
   "outputs": [],
   "source": []
  }
 ],
 "metadata": {
  "kernelspec": {
   "display_name": ".venv",
   "language": "python",
   "name": "python3"
  },
  "language_info": {
   "codemirror_mode": {
    "name": "ipython",
    "version": 3
   },
   "file_extension": ".py",
   "mimetype": "text/x-python",
   "name": "python",
   "nbconvert_exporter": "python",
   "pygments_lexer": "ipython3",
   "version": "3.8.10"
  }
 },
 "nbformat": 4,
 "nbformat_minor": 2
}
