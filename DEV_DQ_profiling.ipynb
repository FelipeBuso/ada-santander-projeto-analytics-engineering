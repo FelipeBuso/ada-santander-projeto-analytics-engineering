{
 "cells": [
  {
   "cell_type": "code",
   "execution_count": null,
   "metadata": {},
   "outputs": [],
   "source": [
    "# PROFILING\n",
    "# \n",
    "# Profiling de arquivo tipo CSV com Engine de Pandas.\n",
    "# Cria um Suite com os dados do CSV, o que permite melhor análise da qualidade esperada.\n",
    "# \n",
    "# Pode ser usado um conjunto de Batches ou amostras do dado geral"
   ]
  },
  {
   "cell_type": "code",
   "execution_count": 1,
   "metadata": {},
   "outputs": [],
   "source": [
    "import pandas as pd\n",
    "import great_expectations as gx"
   ]
  },
  {
   "cell_type": "code",
   "execution_count": 32,
   "metadata": {},
   "outputs": [],
   "source": [
    "# ARGUMENTS\n",
    "# file_data_regex = 'listings\\.csv\\.gz'\n",
    "# asset_name = 'listings'\n",
    "# expectation_suite_name_str = 'raw_listings'\n",
    "# run_name = 'raw.listings'\n",
    "\n",
    "file_data_regex = 'reviews\\.csv\\.gz'\n",
    "asset_name = 'reviews'\n",
    "expectation_suite_name_str = 'raw_reviews'\n",
    "run_name = 'raw.reviews'\n",
    "\n",
    "# file_data_regex = 'calendar\\.csv\\.gz'\n",
    "# asset_name = 'calendar'\n",
    "# expectation_suite_name_str = 'raw_calendar'\n",
    "# run_name = 'raw.calendar'"
   ]
  },
  {
   "cell_type": "code",
   "execution_count": null,
   "metadata": {},
   "outputs": [],
   "source": [
    "# ARGUMENTS\n",
    "# ... [upstream]\n",
    "\n",
    "# Context\n",
    "context = gx.data_context.FileDataContext.create('.')\n",
    "\n",
    "# Data Source\n",
    "datasource = context.datasources.get('airbnb', None)\n",
    "if datasource == None:\n",
    "    datasource = context.sources.add_pandas_filesystem('airbnb', base_directory='./data')\n",
    "\n",
    "# Data Asset\n",
    "table_asset = datasource.add_csv_asset(asset_name, batching_regex=file_data_regex)\n",
    "\n",
    "# Batch Request\n",
    "batch_request = table_asset.build_batch_request()\n",
    "\n",
    "expectation_suite_name = expectation_suite_name_str\n",
    "expectations_suite = context.add_expectation_suite(expectation_suite_name)\n",
    "\n",
    "\n",
    "# ===================================================================================\n",
    "# Run Onboarding Data Assist\n",
    "exclude_column_names = []\n",
    "\n",
    "data_assistant_result = context.assistants.onboarding.run(\n",
    "    batch_request=batch_request,\n",
    "    exclude_column_names=exclude_column_names\n",
    ")\n",
    "\n",
    "# Saving Suite\n",
    "expectation_suite = data_assistant_result.get_expectation_suite(\n",
    "    expectation_suite_name=expectation_suite_name)\n",
    "\n",
    "# New Suite (updating)\n",
    "context.add_or_update_expectation_suite(expectation_suite=expectation_suite)\n",
    "\n",
    "\n",
    "\n",
    "# ====================================================================================\n",
    "# Testing Suite [Optional]\n",
    "checkpoint = context.add_or_update_checkpoint(\n",
    "    name=f\"{expectation_suite_name}\",\n",
    "    validations=[{\n",
    "        \"batch_request\": batch_request,\n",
    "        \"expectation_suite_name\": expectation_suite_name,\n",
    "        }])\n",
    "\n",
    "checkpoint_result = checkpoint.run(run_name=run_name)\n",
    "\n",
    "assert checkpoint_result[\"success\"] is True"
   ]
  },
  {
   "cell_type": "code",
   "execution_count": null,
   "metadata": {},
   "outputs": [],
   "source": [
    "# data_assistant_result @ gx\\expectations\\raw_review.json"
   ]
  },
  {
   "cell_type": "code",
   "execution_count": 47,
   "metadata": {},
   "outputs": [
    {
     "data": {
      "text/plain": [
       "['reviews', 'listings', 'calendar']"
      ]
     },
     "execution_count": 47,
     "metadata": {},
     "output_type": "execute_result"
    }
   ],
   "source": [
    "context.datasources.get('airbnb', None).assets[0].name\n",
    "[asset_obj.name for asset_obj in context.datasources.get('airbnb', None).assets]"
   ]
  }
 ],
 "metadata": {
  "kernelspec": {
   "display_name": ".venv",
   "language": "python",
   "name": "python3"
  },
  "language_info": {
   "codemirror_mode": {
    "name": "ipython",
    "version": 3
   },
   "file_extension": ".py",
   "mimetype": "text/x-python",
   "name": "python",
   "nbconvert_exporter": "python",
   "pygments_lexer": "ipython3",
   "version": "3.10.7"
  }
 },
 "nbformat": 4,
 "nbformat_minor": 2
}
