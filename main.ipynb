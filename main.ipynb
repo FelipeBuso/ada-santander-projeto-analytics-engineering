{
 "cells": [
  {
   "cell_type": "code",
   "execution_count": 1,
   "metadata": {},
   "outputs": [],
   "source": [
    "import pandas as pd\n",
    "import numpy as np\n",
    "from prisma import Prisma"
   ]
  },
  {
   "cell_type": "code",
   "execution_count": null,
   "metadata": {},
   "outputs": [],
   "source": [
    "pd.set_option('display.max_columns', None)\n",
    "pd.set_option('display.max_rows', None)"
   ]
  },
  {
   "cell_type": "code",
   "execution_count": null,
   "metadata": {},
   "outputs": [],
   "source": [
    "columns = [\"id\", \"listing_url\", \"scrape_id\", \"host_id\", \"host_listings_count\"]\n",
    "\n",
    "df_listining = pd.read_csv(\"./data/listings.csv.gz\", usecols=columns, compression=\"gzip\" )"
   ]
  },
  {
   "cell_type": "code",
   "execution_count": null,
   "metadata": {},
   "outputs": [],
   "source": [
    "df_listining.rename(columns={\"id\":\"listining_id\"}, inplace=True)\n",
    "df_listining.head(10)"
   ]
  },
  {
   "cell_type": "code",
   "execution_count": null,
   "metadata": {},
   "outputs": [],
   "source": [
    "df_listining.info()"
   ]
  },
  {
   "cell_type": "code",
   "execution_count": null,
   "metadata": {},
   "outputs": [],
   "source": [
    "df_listining.dropna(axis=1, how=\"all\")"
   ]
  },
  {
   "cell_type": "code",
   "execution_count": null,
   "metadata": {},
   "outputs": [],
   "source": [
    "df_listining.info()"
   ]
  },
  {
   "cell_type": "code",
   "execution_count": null,
   "metadata": {},
   "outputs": [],
   "source": [
    "df_reviews = pd.read_csv(\"./data/reviews.csv.gz\", compression=\"gzip\" )\n",
    "df_reviews.head()"
   ]
  },
  {
   "cell_type": "code",
   "execution_count": null,
   "metadata": {},
   "outputs": [],
   "source": [
    "data = df_listining.to_dict(orient=\"records\")\n",
    "# data[0:10]"
   ]
  },
  {
   "cell_type": "code",
   "execution_count": 2,
   "metadata": {},
   "outputs": [],
   "source": [
    "db = Prisma(auto_register=True)"
   ]
  },
  {
   "cell_type": "code",
   "execution_count": null,
   "metadata": {},
   "outputs": [],
   "source": [
    "from prisma.models import Listining\n",
    "\n",
    "for row in data[0:100]:\n",
    "    await db.connect()\n",
    "    print(row)\n",
    "    try:\n",
    "        await Listining.prisma().create(data = row)\n",
    "    except Exception as e:\n",
    "        print(e)\n",
    "    finally:\n",
    "        await db.disconnect()"
   ]
  },
  {
   "cell_type": "code",
   "execution_count": null,
   "metadata": {},
   "outputs": [],
   "source": [
    "df_reviews = pd.read_csv(\"./data/reviews.csv.gz\",  compression=\"gzip\" )\n",
    "df_reviews.replace(np.nan, \"\", inplace=True)"
   ]
  },
  {
   "cell_type": "code",
   "execution_count": null,
   "metadata": {},
   "outputs": [],
   "source": [
    "df_reviews.info()"
   ]
  },
  {
   "cell_type": "code",
   "execution_count": null,
   "metadata": {},
   "outputs": [],
   "source": [
    "for col in df_reviews.columns:\n",
    "    print(f\" Coluna {col} - qtde de nan: {df_reviews[col].isna().sum()}\")"
   ]
  },
  {
   "cell_type": "code",
   "execution_count": null,
   "metadata": {},
   "outputs": [],
   "source": [
    "df_reviews.head()"
   ]
  },
  {
   "cell_type": "code",
   "execution_count": null,
   "metadata": {},
   "outputs": [],
   "source": [
    "df_reviews.rename(columns={\"id\": \"review_id\"}, inplace=True)\n",
    "data_reviews = df_reviews.to_dict(orient=\"records\")\n",
    "df_reviews.head(5)"
   ]
  },
  {
   "cell_type": "code",
   "execution_count": null,
   "metadata": {},
   "outputs": [],
   "source": [
    "from prisma.models import Reviews\n",
    "for row in data_reviews[0:100]:\n",
    "    await db.connect()\n",
    "    print(row)\n",
    "    try:\n",
    "        await Reviews.prisma().create(data = row)\n",
    "    except Exception as e:\n",
    "        print(e)\n",
    "    finally:\n",
    "        await db.disconnect()"
   ]
  },
  {
   "cell_type": "code",
   "execution_count": 13,
   "metadata": {},
   "outputs": [],
   "source": [
    "await db.disconnect()"
   ]
  },
  {
   "cell_type": "code",
   "execution_count": 14,
   "metadata": {},
   "outputs": [],
   "source": [
    "await db.connect()"
   ]
  },
  {
   "cell_type": "code",
   "execution_count": 31,
   "metadata": {},
   "outputs": [],
   "source": [
    "from prisma.models import Listining\n",
    "\n",
    "resultados = await Listining.prisma().find_many(include={\"reviews\": True})\n"
   ]
  },
  {
   "cell_type": "code",
   "execution_count": 44,
   "metadata": {},
   "outputs": [
    {
     "name": "stdout",
     "output_type": "stream",
     "text": [
      "1\n",
      "id=1 listing_id=231497 review_id=726625 date='2011-11-17' reviewer_id=1356783 reviewer_name='Jenny' comments='Es un apartastudio muy bien ubicado. Tiene lo justo para una pareja solos o con un hijo(a) pequeño(a). Tiene gas para cocinar, nevera para guardar comidas o bebidas, un buen baño, hay celaduria las 24 horas, hay aire acondicionado, ventilador, cama doble y dos pequeños sofa cama, está en buen estado todo, en la cocina hay los implementos necesarios para cocinar si se desea. Maria Luiza es una mujer bastante cordial y confiable.' Listining=None listiningId=None\n",
      "id=44 listing_id=231497 review_id=1022325 date='2012-03-20' reviewer_id=1441426 reviewer_name='Jorge Luis' comments='Excelente departamento, tal cual como se ve en las fotos. Muy buena la atención de Maria Luiza. Junto con las llaves nos dejó una lista de sugerencias y consejos para una mejor estadía.' Listining=None listiningId=None\n",
      "id=40 listing_id=231497 review_id=901877 date='2012-02-05' reviewer_id=1337741 reviewer_name='Jorge' comments='Eu gostei muito da minha estancia no apartamento. Maria Luiza é muito boa host,. Ela tinha todo em perfeito estado e bem cuidado, com todas as coisas importantes que eu poderia precisar lá!' Listining=None listiningId=None\n",
      "id=41 listing_id=231497 review_id=979281 date='2012-03-07' reviewer_id=1693082 reviewer_name='Rebecca' comments='Great location for beach, buses and breakfast!! Grocery stores and Havianna stores are right next door. But it look much bigger in the picture and the second foldout bed is actually a couple or slightly uncomfortable fold out chairs. Perfect for 2!!' Listining=None listiningId=None\n",
      "id=45 listing_id=231497 review_id=1051904 date='2012-03-27' reviewer_id=1767217 reviewer_name='Patricia' comments='Apartamento com muito boa localização. Limpo, com tudo o que é necessário para cozinhar. Perfeito! 5*' Listining=None listiningId=None\n",
      "id=46 listing_id=231497 review_id=1179202 date='2012-04-25' reviewer_id=2041184 reviewer_name='Cleyton' comments='Excelente apartamento, realmente tem tudo que se precisa para \"viver\" em Copacabana. Dormir e acordar podendo ouvir o barulho do mar. Da Janela já é possível ver o mar e o Forte de Copacabana. Tudo limpo e organizado. Já estou planejando outra viagem.' Listining=None listiningId=None\n",
      "id=47 listing_id=231497 review_id=1894700 date='2012-08-05' reviewer_id=2984819 reviewer_name='Cesar' comments='O apartamento é realmente confortável, muito bem organizado e limpo. O edifício está muito bem localizado (tem de tudo por perto). Os porteiros são muito gentis e nos auxiliaram com informações bastante úteis. Maria Luiza foi muito gentil e atenciosa. Muito recomendado!' Listining=None listiningId=None\n",
      "id=48 listing_id=231497 review_id=2378134 date='2012-09-23' reviewer_id=2198781 reviewer_name='Claudia' comments='Pasamos muy bien  en el apartamento y todo funcionó correctamente. ' Listining=None listiningId=None\n",
      "id=49 listing_id=231497 review_id=2684652 date='2012-10-22' reviewer_id=3608667 reviewer_name='Thaís' comments='Muito bom apartamento, exatamente como nas fotos, estava super organizado e com tudo limpinho, excelente localização, perto de tudo, farmacia, restaurantes, um quarteirao da praia e com uma parada de onibus bem em frente, e uma estação de metro super perto! Nao tive nenhum problema, cheguei super cedo e a chave ja estava la, foi tudo muito bom! Recomendo!' Listining=None listiningId=None\n",
      "id=50 listing_id=231497 review_id=2801900 date='2012-11-04' reviewer_id=3261459 reviewer_name='Natália' comments='O apartamento é exatamente como nas fotos! Estava bem limpo e não faltava nada do que foi combinado. Localização excelente e tamanho adequado para duas pessoas. Maria Luiza foi extremamente atenciosa, respondendo a cada dúvida que eu tive prontamente. Recomendo muito!' Listining=None listiningId=None\n",
      "id=51 listing_id=231497 review_id=2940171 date='2012-11-22' reviewer_id=3637463 reviewer_name='Lawrie' comments='Maria was great, very helpful and easy to deal with. Will contact again...' Listining=None listiningId=None\n",
      "id=52 listing_id=231497 review_id=3152198 date='2012-12-25' reviewer_id=3859639 reviewer_name='Natalia' comments=\"Maria Luiza's apartment is located in the perfect location close to the most famous beaches of Rio, only meters away from Copacabana and 10 minutes walking distance to Ipanema, personally my favorite place overall in Rio.  \\r<br/>It has everything you need for a perfect stay, if your budget is a little tight you can cook in there, you have several markets nearby to shop groceries and the kitchen amenities are just fine.\\r<br/>The bed is actually very comfortable.\\r<br/>One of the best things is that it has Air conditioner for the high temperatures that usually strike the city. \\r<br/>The only thing I would recommend to the new guests is to bring your own towels if you are staying for long, and also bring towels for the beach because you are not allowed to take the ones that are in the bathroom to the beach. \" Listining=None listiningId=None\n",
      "id=53 listing_id=231497 review_id=3302460 date='2013-01-07' reviewer_id=3202085 reviewer_name='Vinicius' comments='Apartamento muito bom e limpo. Ótima localização, próximo a mercado, padaria, farmárcia. Está praticamente na praia. Prédio de ambiente familiar. Portaria segura e organizada.' Listining=None listiningId=None\n",
      "id=54 listing_id=231497 review_id=3772922 date='2013-03-13' reviewer_id=4829470 reviewer_name='Lucio Manuel' comments='Excelente! Muy buena ubicación, muy cómodo el departamento. Un placer, volveremos en cuánto tengamos la oportunidad! Muchas gracias Maria Luiza!' Listining=None listiningId=None\n",
      "id=55 listing_id=231497 review_id=4060220 date='2013-04-07' reviewer_id=4238862 reviewer_name='Amar' comments='The apartment is fantastic. It is conveniently located on Copacabana  beach (can be seen from the bedroom window)and a very short walk to Ipanema beach.  The building itself is very secure and the exit is on the main road in with plenty of shops within walking distance, including supermarkets. It is also next to Contagalo train station and there are bus stops nearby. ' Listining=None listiningId=None\n",
      "id=56 listing_id=231497 review_id=4401316 date='2013-05-03' reviewer_id=4221519 reviewer_name='Heiko' comments='Everything was ok! Clean appartement, Little helpers on the desk and perfect communication - thank you!' Listining=None listiningId=None\n",
      "id=57 listing_id=231497 review_id=8415082 date='2013-10-29' reviewer_id=9154301 reviewer_name='Rebecca' comments='The location was superb...we could see the beach and hear the ocean from our window.\\r<br/>\\r<br/>' Listining=None listiningId=None\n",
      "id=87 listing_id=231497 review_id=15899931 date='2014-07-18' reviewer_id=9097100 reviewer_name='Katie' comments='Amazing spacious apartment in the best location! We stayed here over World Cup and felt really safe and close to everything. Maria left a map for us with supermarkets bars laundry restaurants etc close by was super helpful. Would stay here and book with Maria again in a heart beat. Thanks :) ' Listining=None listiningId=None\n",
      "id=75 listing_id=231497 review_id=8934486 date='2013-11-26' reviewer_id=5297661 reviewer_name='Evgény' comments='Nice, clean and very well located apartment. Very close to the beach. You can see the beach from the window of the apartment. Maria was great and very helpful.' Listining=None listiningId=None\n",
      "id=80 listing_id=231497 review_id=9186187 date='2013-12-11' reviewer_id=3985752 reviewer_name='Fernando' comments='El apartamento tiene todo lo necesario para la comodidad de 2 personas. Es acorde al precio y tiene una vista al mar. Uno puede dormir escuchandolo. \\r<br/>La ubicacion es muy buena, a una cuadra del mar y cerca de todo el centro comercial.\\r<br/>Al llegar tenia indicaciones de Maria Luiza sobre cuidados que tenia que tener y lugares recomendables para visitar.' Listining=None listiningId=None\n",
      "id=81 listing_id=231497 review_id=9294160 date='2013-12-19' reviewer_id=2154677 reviewer_name='Gareth' comments='Great apartment right on Copacabana with ocean view and 2min walk to the beach.' Listining=None listiningId=None\n",
      "id=82 listing_id=231497 review_id=9372567 date='2013-12-24' reviewer_id=10461857 reviewer_name='Tamir' comments=\"Maria was a great host even though we did not meet her, we communicated via email. We arrived early in the morning and left late in the evening, and Maria was very kind and allowed us to check in early and check out late. The apartment has a great location near the Copacabana beach and a short walk from ipanema beach, with an ocean view from the window. The apartment has a well equipped kitchen, it's very nice and comfortable. Thank you Maria!\" Listining=None listiningId=None\n",
      "id=83 listing_id=231497 review_id=10072448 date='2014-01-28' reviewer_id=9041471 reviewer_name='Bruna' comments='O agendamento com a Maria Luiza foi muito tranquilo, combinamos por e-mail meu horário de chegada e saída, e a chave do apartamento fica com o porteiro do prédio. Ela foi atenciosa para explicar eventuais dúvidas.\\r<br/>\\r<br/>Pontos fortes: A LOCALIZAÇÃO!, simplesmente fica em uma localização perfeita para quem está passeando no Rio e quer conhecer os principais pontos turísticos. Uma quadra da praia de Copacabana e umas 5 quadras de Ipanema. Supermercados por toda parte ali perto, bem como restaurantes 24h e farmácias. Andamos na rua depois da meia-noite a pé e não senti insegurança em nenhum momento. O apartamento é perfeito para duas pessoas, talvez até 3 ou 4, se não se importar muito com espaço. Fizemos tudo de metrô e ônibus.\\r<br/>\\r<br/>Pontos a melhorar: O chuveiro não esquentou, mas isso não foi um problema para nós, pois estava um calor no Rio, tomamos banho em temperatura normal com muito gosto. O ar condicionado é muito barulhento, não conseguíamos dormir com ele ligado, mas dai o calor incomodava mais ainda. Mas nada que atrapalhasse nossa estadia, recomendo e voltaria para o apartamento da Maria Luiza.' Listining=None listiningId=None\n",
      "id=84 listing_id=231497 review_id=14421889 date='2014-06-19' reviewer_id=9942387 reviewer_name='Ari' comments='Mi experiencia en el departamento no pudo haber sido mejor. Fuimos 4 personas, estuvimos muy comodos y nos vino muy bien la cocina para abaratar costos.\\r<br/>Ubicación excelente, rodeado de supermercados, en una zona tranquila y con seguridad. A una cuadra de la playa y a pocas cuadras de Ipanema. \\r<br/>Maria Luiza fue muy atenta con nosotros y cumplió con todo lo pautado. Muy recomendable!' Listining=None listiningId=None\n",
      "id=85 listing_id=231497 review_id=14545826 date='2014-06-22' reviewer_id=9951696 reviewer_name='Matias' comments='Great apartment in Copacabana. Great Location. the apartament is near to Ipanema. Stayed there with my wife and two kids. The flat is near to the beach (200 meters) and has also supermarket, beakery and bars/restaurant. Building has a security person all day in the ground floor. Lots of buses and also subway closed to the apartement. i recommend the apartment. I will back!' Listining=None listiningId=None\n",
      "id=86 listing_id=231497 review_id=15084840 date='2014-07-02' reviewer_id=10014284 reviewer_name='John' comments='We stayed at this apartment for 7 nights and it was everything that Maria Luiza listed. Great location, a view of the beach, and fast responses whenever we need to speak with her. Would highly recommend if all you want to is a place to sleep and a shower, it is not fancy but why would you go to Rio and stay indoors anyway?!' Listining=None listiningId=None\n",
      "id=88 listing_id=231497 review_id=25316997 date='2015-01-12' reviewer_id=24360590 reviewer_name='Flavio' comments='O apartamento é ótimo bem localizado e a Maria Luiza foi super atenciosa! Se voltar a Copacabana com certeza irei considerar me hospedar novamente neste apê!' Listining=None listiningId=None\n",
      "id=89 listing_id=231497 review_id=27007482 date='2015-02-23' reviewer_id=26202135 reviewer_name='Rodrigo' comments='Adorei ficar no Apt. da Maria Luzia!\\r<br/>Ela foi muito atenciosa conosco.\\r<br/>O bairro era ótimo e o apartamento muito bem organizado conforme as fotos.' Listining=None listiningId=None\n",
      "id=90 listing_id=231497 review_id=30457934 date='2015-04-22' reviewer_id=25148115 reviewer_name='Felipe' comments='A localização do apartamento é ótima, há uma quadra da praia de Copacabana, próximo a mercados, farmácias e lanchonetes. Também fica próximo a estação do metrô.\\r<br/>\\r<br/>O apartamento é exatamente igual às fotos, simples mas bem organizado.  Da janela, dá para ver um pedaço da praia também.\\r<br/>\\r<br/>Com certeza, voltaria a me hospedar lá. ' Listining=None listiningId=None\n",
      "id=91 listing_id=231497 review_id=34485272 date='2015-06-08' reviewer_id=30796892 reviewer_name='Gian Luca' comments='Apesar da boa localização e as instalações estarem conforme o descrito, não fomos comunicados sobre a obra realizada na frente do apartamento durante a estadia (junho de 2015). O barulho foi de grande incômodo no período da manhã. ' Listining=None listiningId=None\n",
      "id=92 listing_id=231497 review_id=35697816 date='2015-06-21' reviewer_id=18889004 reviewer_name='David' comments='Everything was clean in the apartment and was as described in the listing. There were fresh towels and extra blankets available as well! The apartment is located 1 block from the beach and near restaurants, coffee shops, pharmacies, and grocery stores. We would stay here again!  ' Listining=None listiningId=None\n",
      "id=93 listing_id=231497 review_id=46313771 date='2015-09-09' reviewer_id=41642239 reviewer_name='Mariana' comments='Eu ameeei a localização do apartamento, a Maria Luiza nos tratou super bem e foi mega flexível no horário.\\r<br/>Quando voltar ao Rio, com certeza vou procurar novamente esse apartamento. ' Listining=None listiningId=None\n",
      "id=94 listing_id=231497 review_id=62692690 date='2016-02-16' reviewer_id=49374019 reviewer_name='Eduardo' comments='Muito bom, não tenho nada do que reclamar, apartamento otimo muito bem localizado, farmácia 24 horas, a uma quadra da praia. Única coisa ruim foi ter q ir embora... Rs... Maria Luiza sempre respondendo on line, muito prestativa,  para minha surpresa chegavam novas toalhas a cada semana. Rs... fiquei 10 dias muito bom. Certeza voltarei.' Listining=None listiningId=None\n",
      "id=95 listing_id=231497 review_id=63634725 date='2016-02-25' reviewer_id=56368687 reviewer_name='Fanny' comments='Otimo apartamento, limpo, prático e bem localizado. Dispõe de tudo que precise para aproveitar da viagem. Ótima comunicação com a Maria Luiza. Recomendo e espero voltar lá!' Listining=None listiningId=None\n",
      "id=96 listing_id=231497 review_id=67791847 date='2016-03-31' reviewer_id=4060213 reviewer_name='Erica' comments='Maria was a fantastic host and the apartment was perfect for my solo trip to Rio. Location is excellent - just 2 blocks from Copacabana beach and right near Ipanema beach. Tons of restaurants, shops and convenient stores in the area. I felt totally safe and enjoyed my stay - Maria responded to all of questions quickly and the apartment was exactly as photographed. I would definitely stay again!' Listining=None listiningId=None\n",
      "id=97 listing_id=231497 review_id=93178862 date='2016-08-11' reviewer_id=61980207 reviewer_name='Jaime' comments='La estancia en el apartamento  de Maria Luiza fue estupenda. La descripción del alojamiento era tal cual lo describen las fotos.<br/>La ubicación  era perfecta ya que estaba muy cerca de la playa y en un punto medio para ir a las diferentes zonas olímpicas.' Listining=None listiningId=None\n",
      "id=98 listing_id=231497 review_id=95416134 date='2016-08-19' reviewer_id=39639936 reviewer_name='Lance' comments='The host was courteous and was very thorough about expectations. The neighborhood was safe and in a convenient location. Upon arrival, I needed an adapter to charge my phone and the host was prompt in assisting me. ' Listining=None listiningId=None\n",
      "id=99 listing_id=231497 review_id=112752946 date='2016-11-07' reviewer_id=5417238 reviewer_name='Barbara' comments='The host canceled this reservation 5 days before arrival. This is an automated posting.' Listining=None listiningId=None\n",
      "id=100 listing_id=231497 review_id=234888112 date='2018-02-14' reviewer_id=112072276 reviewer_name='Jana' comments='Ocorreu tudo como previsto. A comunicação com a anfitriã foi ótima, sempre me respondia em poucos minutos. O apartamento é exatamente como as fotos. O que mais gostamos foi a localização do apartamento, com supermercado, padaria, ponto de ônibus e o metrô bem perto e a melhor coisa, a alguns passos da praia. <br/>Quando voltar ao Rio, sem dúvida ficaria de novo neste apartamento.' Listining=None listiningId=None\n",
      "2\n",
      "3\n",
      "4\n",
      "id=2 listing_id=17878 review_id=64852 date='2010-07-15' reviewer_id=135370 reviewer_name='Tia' comments='This apartment is in a perfect location -- two blocks from the beach and two blocks from the Copacabana Palace (where anyone famous stays when they are in Rio), which means it´s a very safe neighborhood.  The pictures very accurately depict what the apartment is like, so you´ll have no surprises.  Max is very communicative and helpful.  The four of us that stayed here would highly recommend it.' Listining=None listiningId=None\n",
      "id=3 listing_id=17878 review_id=76744 date='2010-08-11' reviewer_id=10206 reviewer_name='Mimi' comments=\"we had a really great experience staying in Max's apartment.  it was one block from copacabana beach with easy access to the local markets/shops.  Max was very helpful and went out of his way to send a list of suggestions on things to do.  I will refer friends to Max in the future if visiting Rio.  \\r<br/>\\r<br/>Thanks for everything Max!\" Listining=None listiningId=None\n",
      "id=4 listing_id=17878 review_id=91074 date='2010-09-06' reviewer_id=80253 reviewer_name='Jan' comments='Staying in Max appartment is like living in a cosy little French village and enyoing at te same time round the corner all the facilities that Rio has to offer (metro, bus, shops, restaurants, supermarkets, and of course Copa Cabana beach). Fantastic terrace, nicely decorated rooms, two spacious bedrooms, attentive doormen, and a host who really cares for his guests.  \\r<br/>\\r<br/>Jan & Iet    ' Listining=None listiningId=None\n",
      "id=5 listing_id=17878 review_id=137528 date='2010-11-12' reviewer_id=230449 reviewer_name='Orene' comments='In general very good and reasonable price.\\r<br/>\\r<br/>It is really great having local calls for free.It give an extra service to the apartment and tourists in Rio.\\r<br/>\\r<br/>Things that can be better:\\r<br/>- towells in different colours, for differ the towels of each person (it is a bit silly...)\\r<br/>- Air conditioning in the rooms\\r<br/>- DVD device included to the TV\\r<br/>- Some more kitchen things and better heating kitchen system (os fogos da cozinha electricos sao um poco lentos para cozinhar)\\r<br/>\\r<br/>All the rest was correct, we will recommend the apart for other people.\\r<br/>\\r<br/>' Listining=None listiningId=None\n",
      "id=6 listing_id=17878 review_id=147594 date='2010-12-01' reviewer_id=219338 reviewer_name='David' comments='The apt was nice and in a great location only a couple of blocks from the beach and shopping. Thanks for everything Max!' Listining=None listiningId=None\n",
      "id=7 listing_id=17878 review_id=152368 date='2010-12-12' reviewer_id=266847 reviewer_name='Armi' comments='At Copacabana apartment is best the situation and BALCONY!\\r<br/>Thanks Max (hope the door is fixed!)' Listining=None listiningId=None\n",
      "id=8 listing_id=17878 review_id=155565 date='2010-12-19' reviewer_id=243287 reviewer_name='Jonathan' comments='A great apartment in a great location. The close proximity to transportation, supermarkets and everyday needs was really helpful. Max was very helpful and accommodating. ' Listining=None listiningId=None\n",
      "id=9 listing_id=17878 review_id=179219 date='2011-02-07' reviewer_id=172558 reviewer_name='Anna' comments='Apartment is exactly as Max advertised. If we had any issues, he immediately solved them. In addition, the terrace was a welcome addition. However, the neighborhood is a bit dodgy. The neighbors would throw trash on the terrace which we had to toss out for them every day. Next time my friends and I will stay in Ipanema. ' Listining=None listiningId=None\n",
      "id=10 listing_id=17878 review_id=186447 date='2011-02-22' reviewer_id=353604 reviewer_name='Remy' comments='Great apartment, amazing price and location in a pedestrianised street with a great atmosphere and large bedrooms, living room and balcony. The only downside was the kitchen with two small electric hobs but we managed to get by and everything else more than made up for it. I would recommend this place to anyone!' Listining=None listiningId=None\n",
      "id=11 listing_id=17878 review_id=191020 date='2011-03-01' reviewer_id=122909 reviewer_name='Cliff' comments=\"Max was very organised and understanding to all our needs. He was very clear and honest with his apartment. The apartment was clean, safe and all the amenities was true. Very close to copacobana beach and local shops and metro station(2mins). Quiet at night when sleeping in a pretty safe neighbourhood. Strongly recommend Max's apartment and will stay here if I'm back in Rio again. Thanks Max!\\r<br/>\" Listining=None listiningId=None\n",
      "id=12 listing_id=17878 review_id=204123 date='2011-03-20' reviewer_id=435996 reviewer_name='Arfan' comments='Amazing location,  great apartmen, tbest place i stayed in brazil, thanks Max x' Listining=None listiningId=None\n",
      "id=13 listing_id=17878 review_id=213346 date='2011-03-30' reviewer_id=446854 reviewer_name='Sandra' comments='Appartement très bien situé, dans quartier calme.\\r<br/>Les voisins ne sont pas bruyants.\\r<br/>Appartement lumineux et spacieux.\\r<br/>Max est arrangeant, très accueillant et veille au bien-être de ses locataires.\\r<br/>Nous avons passé un agréable séjour ! \\r<br/>Rio est une ville magnifique et ses habitants très sympathiques.\\r<br/>Merci Max !' Listining=None listiningId=None\n",
      "id=14 listing_id=17878 review_id=224651 date='2011-04-12' reviewer_id=463052 reviewer_name='Renee' comments='I loved Rio and the accomodations were perfect!!! Everything was in walking distance or those who like to adventure out ....just a bus ride away.  One block from the beach with shops, vedors, and local eateries surrounding.  Very clean with friendly ... this is definitely a space worth renting. Simply fanatasic!!!' Listining=None listiningId=None\n",
      "id=15 listing_id=17878 review_id=300823 date='2011-06-06' reviewer_id=623829 reviewer_name='Josie' comments='Lovely apartment, great location. The flat was clean and as described. Nice big terrace, Max great to deal with. ' Listining=None listiningId=None\n",
      "id=16 listing_id=17878 review_id=308683 date='2011-06-11' reviewer_id=534220 reviewer_name='Charan' comments='Super comfortable apartment ,excellent host who genuinely helps you out with everything..Right from airport transfer assistance to things to do in Rio-we were well informed thanks to Max..Thanks for a wonderful stay..' Listining=None listiningId=None\n",
      "id=17 listing_id=17878 review_id=495301 date='2011-09-02' reviewer_id=869873 reviewer_name='Marc' comments=\"We had a great time staying at Max's apartment. It was centrally located and we felt very safe in the neighborhood. The apartment was just as Max described and he was very helpful with suggestion on great places to see and do. Max did not tell us about the beer store across the street that sold $3 liter beers (lol). We had a great time and would definitely stay at the apartment again.\" Listining=None listiningId=None\n",
      "id=18 listing_id=17878 review_id=535989 date='2011-09-16' reviewer_id=897100 reviewer_name='Carine' comments=\"We had a great time staying at Max's apartment, thanks for everything , cant wait to go back next year and staying again there \" Listining=None listiningId=None\n",
      "id=19 listing_id=17878 review_id=564494 date='2011-09-25' reviewer_id=628827 reviewer_name='Mariane' comments=\"Great apartment and location, exactly as described. It's clean and comfortable, with easy acess to beach, stores, restaurant, transportation. Max is helpful and attentive.  Recommended by me and my friends. \" Listining=None listiningId=None\n",
      "id=20 listing_id=17878 review_id=597736 date='2011-10-04' reviewer_id=989464 reviewer_name='Jose Mauro' comments='Muito Melhor do que ir para um hotel. Apt com excelente localização( 1 quarteirão da praia), muito organizado e limpo. O proprietário sempre muito solicito para resolver qualquer problema. O Apt também tem um terraço maravilhoso. Esta é a melhor maneira de conhecer o RIO\\r<br/>\\r<br/>' Listining=None listiningId=None\n",
      "id=21 listing_id=17878 review_id=620065 date='2011-10-11' reviewer_id=1157847 reviewer_name='Gabriel' comments='Muito bom o apartamento, a pouco mais de uma quadra da praia e com muitos  lugares para comer e sair por perto.' Listining=None listiningId=None\n",
      "id=22 listing_id=17878 review_id=656909 date='2011-10-24' reviewer_id=401818 reviewer_name='Ken' comments=\"Mathais's apartment was spacious and well situated with regard to Copacabana Beach,public transport and shopping.\\r<br/>The kitchen is fairly basic with its amenities - no hot water/ no door on freezer compartment in fridge, so forget the ice-cream!\\r<br/>Beds were comfortable, but bedding could do with an upgrade.\\r<br/>Matthais was very amenable and quick to help solve any problems.\\r<br/>Would consider staying there again.\" Listining=None listiningId=None\n",
      "id=23 listing_id=17878 review_id=678273 date='2011-11-01' reviewer_id=1020851 reviewer_name='Heena' comments='Matthias is the best host.  He left detailed instructions and even sent an info sheet before our arrival which made us feel safe and taken care of.  The walk to the beach and metro is less than 5 minutes and the apartment itself is in excellent condition.  I wouldn’t have wanted to stay anywhere else.  From the free wi-fi to the outdoor terrace where we enjoyed having breakfast in the mornings --- perfect stay! Highly recommend this host and apartment!  Thanks, Matthias!' Listining=None listiningId=None\n",
      "id=24 listing_id=17878 review_id=879047 date='2012-01-23' reviewer_id=1598153 reviewer_name='Claud' comments='Thank you Max, it was a pleasure to stay at your place. \\r<br/>\\r<br/>I would recomend Max place to anybody. It s a very safe and friendly enviroment. To the beach about 1 Minute. Shopping and everything great. Even Max recomended a \"per quilo\" bar very close, were they had good food to a great price.  Stay at this place and you will be happy!! Claudia from Austria and Jerry from the USA  ' Listining=None listiningId=None\n",
      "id=25 listing_id=17878 review_id=901921 date='2012-02-05' reviewer_id=1403627 reviewer_name='Christian' comments='Tuvimos una estadía maravillosa en el apartamento de Matthias. El apartamento es muy amplio, cómodo y confortable; todo funcionó perfectamente y luce tal cual las fotos. Está en una ubicación excelente, cerca de la playa, del metro y de las paradas de bus. Y tiene un extra muy bueno: el balcón terraza, el cual da a una peatonal, con lo cual por la noche no se escuchan ruidos de vehículos. Matthias además es un excelente anfitrión, es muy atento y ordenado y además cuida cada uno de los detalles. Altamente recomendable.' Listining=None listiningId=None\n",
      "id=26 listing_id=17878 review_id=920531 date='2012-02-14' reviewer_id=1500384 reviewer_name='Roman' comments='The stay in the appartment of Max Drew was grat. Its a great appartment in a great location and all people are great. Simplzy its great.\\r<br/>My roommate broke a part of a Door, as soon Max send me the bill i ll pay the bill.\\r<br/>Thx Max' Listining=None listiningId=None\n",
      "id=27 listing_id=17878 review_id=1057830 date='2012-03-29' reviewer_id=1708977 reviewer_name='Sven' comments='Very good location in Copacabana. Nicely furnished & big balcony. I would definitely recommend it. \\r<br/>Also Max is great host with many tips/ideas about Rio. ' Listining=None listiningId=None\n",
      "id=28 listing_id=17878 review_id=1079463 date='2012-04-03' reviewer_id=1710554 reviewer_name='Leonardo' comments='Apartamento muy bien comunicado en una zona tranquila dado que da a una calle peatonal y muy segura. Se encuentra a 2 cuadras de la playa y del subte. Además tiene un plus muy bueno que es el balcón con la mesa para comer afuera. \\r<br/>Max es un muy buen Host. Muy atento y buena persona!\\r<br/>\\r<br/>Max, gracias por todo!!! \\r<br/>\\r<br/>Leonardo.-' Listining=None listiningId=None\n",
      "id=29 listing_id=17878 review_id=1096709 date='2012-04-08' reviewer_id=1744955 reviewer_name='Glen' comments='Max was extremely helpful in advance of and during our stay. The apartment was exactly as described and very clean and comfortable. It was great to be able to wake up, have breakfast on the balcony, then take the short stroll to Copacabana beach. I would highly recommend this place if you are staying in Rio.' Listining=None listiningId=None\n",
      "id=30 listing_id=17878 review_id=1157777 date='2012-04-21' reviewer_id=734033 reviewer_name='Joy' comments='We enjoyed our stay in the apartment and the great area of Copacabana. The apartment was clean and in great condition on arrival. Max was very accommodating and good to make hire arrangements with. ' Listining=None listiningId=None\n",
      "id=31 listing_id=17878 review_id=1220565 date='2012-05-03' reviewer_id=1518589 reviewer_name='Mark & Linh' comments='Max was a great host!  The apartment was exactly as described and in a nice location.  Max was also extremely helpful with providing info on where things are in the area, how to get around, and places to go and see.  Thanks again Max!  Would definitely stay here again!' Listining=None listiningId=None\n",
      "id=32 listing_id=17878 review_id=1350996 date='2012-05-26' reviewer_id=2166321 reviewer_name='Pierre-Joseph' comments=\"L'appartement est très bien situé et Max est un hôte très sympatique. Séjour excellent dans une ville magnifique...\\r<br/>Le métro à 2 pas vous mènera aux 4 coins de la ville. \\r<br/>La rue est relativement calme, quelques bars qui s'enflamment lors des soirs de match...\\r<br/>Vous passerez un agréable séjour chez Max\" Listining=None listiningId=None\n",
      "id=33 listing_id=17878 review_id=1466572 date='2012-06-12' reviewer_id=954013 reviewer_name='Charles' comments='Centrally located, This apt has everything you need to enjoy Rio. Thanks Max.' Listining=None listiningId=None\n",
      "id=34 listing_id=17878 review_id=1527983 date='2012-06-21' reviewer_id=2035391 reviewer_name='Aliya' comments='The apartment is located in a central location where all public transport is within easy reach. \\r<br/>Shops, restuarants and beach are very close.\\r<br/>Excellent place to stay for a family.\\r<br/>The host, max, is extremely helpful, and would try and fix any problem, with one message. The best part is he speaks excellent English.' Listining=None listiningId=None\n",
      "id=35 listing_id=17878 review_id=1566424 date='2012-06-26' reviewer_id=2253138 reviewer_name='Sergio' comments='o apartamento é muito confortável, e todo equipado. A unica coisa que tenho a reivindicar é que nos quartos não tem arcondicionado, apesar de não ter precisado nem de usar o ventilador, estava frio.  Porém,  se fosse no verão não sei como ficaria. fora isso o apartamento é ótimo e acho que isso pode ser resolvido.  ' Listining=None listiningId=None\n",
      "id=36 listing_id=17878 review_id=1692076 date='2012-07-12' reviewer_id=406057 reviewer_name='Andrés' comments='Nice apartment, comfortable, spacious and great location. Max is a very friendly and helpful host. ' Listining=None listiningId=None\n",
      "id=37 listing_id=17878 review_id=1735109 date='2012-07-17' reviewer_id=184846 reviewer_name='Nathalie' comments=\"We enjoyed staying at Max' Copacaba 2br. The place is spacious, very well located, in a little street with no car and just a few steps from the beach. Max is a very good host, available and willing to help\" Listining=None listiningId=None\n",
      "id=38 listing_id=17878 review_id=1806502 date='2012-07-26' reviewer_id=2149135 reviewer_name='Baltazar' comments='The apartment is very well located, literally a minute walk from Copacabana. Everything was as pictured. The building was very quiet, never heard noise from neighbors. The only issue was that on arrival the apartment was in the middle of being cleaned. It seems that for some reason there was a misunderstanding about the check-in time and so we arrived earlier than the host expected; due to this I think the cleaning was rushed and so the apartment was not as thoroughly cleaned as I would have liked. Aside from this I had a great experience staying here and would recommend it to anyone that wanted to be close to Copa beach. I would definitely stay here again the next time I visit Rio.' Listining=None listiningId=None\n",
      "id=39 listing_id=17878 review_id=1857377 date='2012-08-01' reviewer_id=2042327 reviewer_name='Silvia' comments='The apartment is perfect with a front row seat to life in Copacabana from your own balcony! A wonderful place to start your day 2 blocks from the beach and a great place to come back to in the evening to relax. Also very close to a metro station and bus routes. Max is very professional with a personal touch. With any luck my family and I will go back soon, the best homebase to see Rìo... Gracias señor Max!' Listining=None listiningId=None\n",
      "id=42 listing_id=17878 review_id=2301311 date='2012-09-17' reviewer_id=2891908 reviewer_name='Belén' comments='Muy cómodo, lindo, silencioso, en un zona tranquila y con todos los servicios cerca. Muy higiénico y seguro.\\r<br/>Es un apartamento europeo con el ambiente brasilero. Maravilhoso!' Listining=None listiningId=None\n",
      "id=43 listing_id=17878 review_id=2421774 date='2012-09-26' reviewer_id=3450699 reviewer_name='Linda' comments=\"This was our first stop and first time in Brazil and it was a blast to begin in Rio. The flat is located close to the beach, many restaurants, and is in a gentle but lively neighborhood. Max is a gem of a host he directed us to many places with many ideas sent via email, we truly appreciate his laid back vibe, professionalism, and kindness. The flat is very clean and we had everything we could need after spending days on the beach and nights out and about. We hope to pass through on another occasion and we'll be happy to call Max. Muito Obrigada!!\" Listining=None listiningId=None\n",
      "id=58 listing_id=17878 review_id=2510041 date='2012-10-05' reviewer_id=1925771 reviewer_name='Jeremy' comments=\"Max is awesome, His place is great and in an amazing location in Copacabana. It's near the beach, near the bus lines and subway. This trip has been great and Max made it really easy to come and go as we please. We'll definitely be back to Max's the next time we're in Rio.\" Listining=None listiningId=None\n",
      "id=59 listing_id=17878 review_id=2797987 date='2012-11-04' reviewer_id=3198985 reviewer_name='Jörg' comments='Beautiful apartment. Near the Metro and the beach. It was perfect. Thank you Max.' Listining=None listiningId=None\n",
      "id=60 listing_id=17878 review_id=2830559 date='2012-11-07' reviewer_id=3825739 reviewer_name='Евгений' comments='I have spend 10 days in Rio in 4 apartments. That was the best one.' Listining=None listiningId=None\n",
      "id=61 listing_id=17878 review_id=3076370 date='2012-12-12' reviewer_id=1924090 reviewer_name='Anne' comments='The apartment is very nice, spacious, full equipped, 2 large bedrooms (the matress is very good), and with a very large balcony, from which we can see brazilian life (no noise during the night). The doormen are very kind, and we haven’t heard noise from neighbours. Juste one precision : the bedrooms have no air conditionner, there is only one ventilator which isn’t enough for the two bedrooms, and too noisy to be on during the night (almost 40° the week we were in Rio). The apartment is situated 2 mns walk from the copacabana beach and subway (cardeal arcoverde) which go to zona sul Ipanema, and zona norte to the Centro very fast, near supermarkets, post office not very far. And to return to the airport, there is a taxi station just at the end of the street. Max is very helpful. Obrigada, Max !\\r<br/>\\r<br/>' Listining=None listiningId=None\n",
      "id=62 listing_id=17878 review_id=3140110 date='2012-12-23' reviewer_id=4116218 reviewer_name='Thomas' comments=\"My wife and me had an excellent stay in Max's apartment. The apartment is very nice and the communication with Max was perfect both before and during the stay.\" Listining=None listiningId=None\n",
      "id=63 listing_id=17878 review_id=3178248 date='2012-12-29' reviewer_id=4064374 reviewer_name='Catalina' comments='The apartment was amazing. It has just been renovated and it is in a very good location. It was clean, cozy and there were clean towels and sheets. Max was a great host, he helped us around and was very friendly. A great experience. ' Listining=None listiningId=None\n",
      "id=64 listing_id=17878 review_id=3306511 date='2013-01-08' reviewer_id=2119283 reviewer_name='Thomas' comments='The apt. was bigger and better presented than what appears in the photos. The location was great for the beach and the fact that it does not face the street and has double glazing meant that it is quiet . It was easy to find all facilities in the area. Would recommend it to anybody. ' Listining=None listiningId=None\n",
      "id=65 listing_id=17878 review_id=3372622 date='2013-01-19' reviewer_id=282355 reviewer_name='Julien' comments=\"The place is just great! Confortable, spacious, clean and very quite if you think you are at the heart of Copacabana.\\r<br/>It's a short walk to the beach, easy to travel by bus/metro, hire a bicycle or just to get a taxi.\\r<br/>The balcony to have a drink in the end of the day is just top stuff!\\r<br/>You wont get better for the price! \" Listining=None listiningId=None\n",
      "id=66 listing_id=17878 review_id=3409929 date='2013-01-25' reviewer_id=4054939 reviewer_name='William' comments='Everything was as described on airbnb.  Max was easy to deal with and provides a great unit in a great location.  My only wish is that there would have been an English language news network - BBC, Fox, MSNBC, etc -  available on the television.' Listining=None listiningId=None\n",
      "id=67 listing_id=17878 review_id=3451132 date='2013-02-01' reviewer_id=4142117 reviewer_name='Laura' comments='O apartamento é muito bom. Quartos e sala grandes, decoração de bom gosto, arejado e com uma varanda muito simpática.Fica perto de tudo e não tem nenhum barulho à noite. Max é sempre disponível, ótimo anfitrião.' Listining=None listiningId=None\n",
      "id=68 listing_id=17878 review_id=3599422 date='2013-02-22' reviewer_id=4351265 reviewer_name='Daniela' comments='Excelente ubicación a 2 cuadras de la playa de Copacabana y de la estación de metro, barrio tranquilo y sin ruido de noche. El departamento limpio y espacioso. Todo Ok, mejor de lo que se ve en fotos!' Listining=None listiningId=None\n",
      "id=69 listing_id=17878 review_id=3613774 date='2013-02-26' reviewer_id=4454803 reviewer_name='Alejandra' comments='El departamento estaba en perfectas condiciones, las descripciones corresponden exactamente al tipo, lugar, numero de camas y habitaciones, Artículos de aseo  disponibles en el dpto. así como cosas básicas que dispone Max para la llegada, café ¡¡¡, por ejemplo en la cocina, nos sorprendió la delicadeza de llamarnos para saber si todo estaba en orden. Praia cerca, bancos, metro, agencias de viaje, arriendo de bicicletas, cafés, restaurantes variados, etc., muy bien, es un departamento sencillo que cumplió con nuestras necesidades. \\r<br/>Muchas gracias Max por tu amable recepción. \\r<br/>Río es genial, hay que recorrerlo y disfrutarlo.\\r<br/>' Listining=None listiningId=None\n",
      "id=70 listing_id=17878 review_id=3652655 date='2013-02-28' reviewer_id=4725464 reviewer_name='Lucy' comments='Good location and very spacious with a large balcony. Max was accomodating and let me get in early on the first day. A/C unit is only in sitting room and struggles to cool the whole apartment.' Listining=None listiningId=None\n",
      "id=71 listing_id=17878 review_id=3677497 date='2013-03-03' reviewer_id=4974760 reviewer_name='Rodrigo' comments='El departamento de Max cuenta con todo lo necesario para tener una estadía agradable, de hecho había café y otras cosas básicas para cocinar. Es fácil llegar, se encuentra cerca de un lugar muy conocido (el Copacabana Palace Hotel), lo que facilita mucho llegar al departamento mientras estás allá. Max además fue muy amable y colaboró para que tuviéramos una buena estadía.\\r<br/>De noche recomiendo no alejarse demasiado de la playa pues esa zona es un poco oscura, pero hacia la playa no hay ningún problema. ' Listining=None listiningId=None\n",
      "id=72 listing_id=17878 review_id=3713139 date='2013-03-07' reviewer_id=4501252 reviewer_name='Gary' comments='This aprtment is in  great spot in Rio, the little local street has many characters who own shops who are entertaining in their own right.\\r<br/>The apartment is spotlessly clean ,extremely comfortable with everything needed...only thing i found lacking is a microwave..I would totally recommend.......and happy to give highest stars\\r<br/>thanx gary' Listining=None listiningId=None\n",
      "id=73 listing_id=17878 review_id=3734939 date='2013-03-10' reviewer_id=550072 reviewer_name='Jonathan' comments='there are so many things going for this apartment -- great location (seriously just blocks away from copacabana beach, couple blocks from a metro stop*), speedy wifi, nice doormen, spacious rooms, and taxis readily available steps from the door. max is also a great host, calling to check in on you and (unbelievably) speedy on a minor repair request. \\r<br/>\\r<br/>* when we were there (early march 2013) the two subway stations in ipanema were closed due to construction work on the line, so be warned. looks they will be closed for quite a while. but like i said, taxis were plentiful and distances not that far.' Listining=None listiningId=None\n",
      "id=74 listing_id=17878 review_id=3771934 date='2013-03-13' reviewer_id=508813 reviewer_name='Judith' comments='Max was a great host, very accomodating! The apartment itself is large and comfortable. The terrace is very pleasing for relaxing after a day walking, or the beach. ' Listining=None listiningId=None\n",
      "id=76 listing_id=17878 review_id=3886400 date='2013-03-25' reviewer_id=100023 reviewer_name='Aileen' comments='The apartment was perfect.  It was spacious, comfortable, clean, and perfectly located.  Max was very accommodating and really helped us out.  We had a fabulous stay and would definitely come back!' Listining=None listiningId=None\n",
      "id=77 listing_id=17878 review_id=3943559 date='2013-03-29' reviewer_id=917058 reviewer_name='Ken' comments='Check-in, check-out was great!  I would stay again.' Listining=None listiningId=None\n",
      "id=78 listing_id=17878 review_id=4094105 date='2013-04-09' reviewer_id=5037497 reviewer_name='Sven' comments=\"Max's apartment is great place to stay in Copacabana.<br/>-Very close to the beach<br/>- good public transportation and taxis around<br/>- huge rooms and clean<br/>- excellent wifi<br/>- good neighborhood<br/> Always again...!:)   <br/> <br/>Thanks a lot Max.<br/>Bis zum nächsten mal!:) \" Listining=None listiningId=None\n",
      "id=79 listing_id=17878 review_id=4171428 date='2013-04-15' reviewer_id=5228496 reviewer_name='Jasper' comments='We had a great stay in this safe apt. With only steps away from copacabana beach, grocery stores and subway station, the location is great. Wifi works perfectly and Max provided info on what to do especially around copacabana although we never met in person.' Listining=None listiningId=None\n",
      "5\n",
      "6\n",
      "7\n",
      "8\n",
      "9\n",
      "10\n"
     ]
    }
   ],
   "source": [
    "for res in resultados[0:10]:\n",
    "    row = dict(res)\n",
    "    print(row['id'])\n",
    "    for review in row['reviews']:\n",
    "        print(review)"
   ]
  },
  {
   "cell_type": "code",
   "execution_count": null,
   "metadata": {},
   "outputs": [],
   "source": []
  }
 ],
 "metadata": {
  "kernelspec": {
   "display_name": ".venv",
   "language": "python",
   "name": "python3"
  },
  "language_info": {
   "codemirror_mode": {
    "name": "ipython",
    "version": 3
   },
   "file_extension": ".py",
   "mimetype": "text/x-python",
   "name": "python",
   "nbconvert_exporter": "python",
   "pygments_lexer": "ipython3",
   "version": "3.8.10"
  }
 },
 "nbformat": 4,
 "nbformat_minor": 2
}
