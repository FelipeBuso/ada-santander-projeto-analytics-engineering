{
 "cells": [
  {
   "cell_type": "code",
   "execution_count": 1,
   "metadata": {},
   "outputs": [],
   "source": [
    "import pandas as pd\n",
    "import numpy as np\n",
    "from prisma import Prisma"
   ]
  },
  {
   "cell_type": "code",
   "execution_count": 2,
   "metadata": {},
   "outputs": [],
   "source": [
    "pd.set_option('display.max_columns', None)\n",
    "pd.set_option('display.max_rows', None)"
   ]
  },
  {
   "cell_type": "code",
   "execution_count": 3,
   "metadata": {},
   "outputs": [],
   "source": [
    "columns = [\"id\", \"listing_url\", \"scrape_id\", \"host_id\", \"host_listings_count\"]\n",
    "\n",
    "df_listining = pd.read_csv(\"./data/listings.csv.gz\", usecols=columns, compression=\"gzip\" )"
   ]
  },
  {
   "cell_type": "code",
   "execution_count": 4,
   "metadata": {},
   "outputs": [
    {
     "data": {
      "text/html": [
       "<div>\n",
       "<style scoped>\n",
       "    .dataframe tbody tr th:only-of-type {\n",
       "        vertical-align: middle;\n",
       "    }\n",
       "\n",
       "    .dataframe tbody tr th {\n",
       "        vertical-align: top;\n",
       "    }\n",
       "\n",
       "    .dataframe thead th {\n",
       "        text-align: right;\n",
       "    }\n",
       "</style>\n",
       "<table border=\"1\" class=\"dataframe\">\n",
       "  <thead>\n",
       "    <tr style=\"text-align: right;\">\n",
       "      <th></th>\n",
       "      <th>id</th>\n",
       "      <th>listing_url</th>\n",
       "      <th>scrape_id</th>\n",
       "      <th>host_id</th>\n",
       "      <th>host_listings_count</th>\n",
       "    </tr>\n",
       "  </thead>\n",
       "  <tbody>\n",
       "    <tr>\n",
       "      <th>0</th>\n",
       "      <td>231497</td>\n",
       "      <td>https://www.airbnb.com/rooms/231497</td>\n",
       "      <td>20230922043705</td>\n",
       "      <td>1207700</td>\n",
       "      <td>4.0</td>\n",
       "    </tr>\n",
       "    <tr>\n",
       "      <th>1</th>\n",
       "      <td>231516</td>\n",
       "      <td>https://www.airbnb.com/rooms/231516</td>\n",
       "      <td>20230922043705</td>\n",
       "      <td>1207700</td>\n",
       "      <td>4.0</td>\n",
       "    </tr>\n",
       "    <tr>\n",
       "      <th>2</th>\n",
       "      <td>236991</td>\n",
       "      <td>https://www.airbnb.com/rooms/236991</td>\n",
       "      <td>20230922043705</td>\n",
       "      <td>1241662</td>\n",
       "      <td>2.0</td>\n",
       "    </tr>\n",
       "    <tr>\n",
       "      <th>3</th>\n",
       "      <td>17878</td>\n",
       "      <td>https://www.airbnb.com/rooms/17878</td>\n",
       "      <td>20230922043705</td>\n",
       "      <td>68997</td>\n",
       "      <td>2.0</td>\n",
       "    </tr>\n",
       "    <tr>\n",
       "      <th>4</th>\n",
       "      <td>25026</td>\n",
       "      <td>https://www.airbnb.com/rooms/25026</td>\n",
       "      <td>20230922043705</td>\n",
       "      <td>102840</td>\n",
       "      <td>1.0</td>\n",
       "    </tr>\n",
       "    <tr>\n",
       "      <th>5</th>\n",
       "      <td>238802</td>\n",
       "      <td>https://www.airbnb.com/rooms/238802</td>\n",
       "      <td>20230922043705</td>\n",
       "      <td>235496</td>\n",
       "      <td>5.0</td>\n",
       "    </tr>\n",
       "    <tr>\n",
       "      <th>6</th>\n",
       "      <td>239531</td>\n",
       "      <td>https://www.airbnb.com/rooms/239531</td>\n",
       "      <td>20230922043705</td>\n",
       "      <td>792218</td>\n",
       "      <td>10.0</td>\n",
       "    </tr>\n",
       "    <tr>\n",
       "      <th>7</th>\n",
       "      <td>35764</td>\n",
       "      <td>https://www.airbnb.com/rooms/35764</td>\n",
       "      <td>20230922043705</td>\n",
       "      <td>153691</td>\n",
       "      <td>1.0</td>\n",
       "    </tr>\n",
       "    <tr>\n",
       "      <th>8</th>\n",
       "      <td>245951</td>\n",
       "      <td>https://www.airbnb.com/rooms/245951</td>\n",
       "      <td>20230922043705</td>\n",
       "      <td>1289982</td>\n",
       "      <td>1.0</td>\n",
       "    </tr>\n",
       "    <tr>\n",
       "      <th>9</th>\n",
       "      <td>48305</td>\n",
       "      <td>https://www.airbnb.com/rooms/48305</td>\n",
       "      <td>20230922043705</td>\n",
       "      <td>70933</td>\n",
       "      <td>11.0</td>\n",
       "    </tr>\n",
       "  </tbody>\n",
       "</table>\n",
       "</div>"
      ],
      "text/plain": [
       "       id                          listing_url       scrape_id  host_id  \\\n",
       "0  231497  https://www.airbnb.com/rooms/231497  20230922043705  1207700   \n",
       "1  231516  https://www.airbnb.com/rooms/231516  20230922043705  1207700   \n",
       "2  236991  https://www.airbnb.com/rooms/236991  20230922043705  1241662   \n",
       "3   17878   https://www.airbnb.com/rooms/17878  20230922043705    68997   \n",
       "4   25026   https://www.airbnb.com/rooms/25026  20230922043705   102840   \n",
       "5  238802  https://www.airbnb.com/rooms/238802  20230922043705   235496   \n",
       "6  239531  https://www.airbnb.com/rooms/239531  20230922043705   792218   \n",
       "7   35764   https://www.airbnb.com/rooms/35764  20230922043705   153691   \n",
       "8  245951  https://www.airbnb.com/rooms/245951  20230922043705  1289982   \n",
       "9   48305   https://www.airbnb.com/rooms/48305  20230922043705    70933   \n",
       "\n",
       "   host_listings_count  \n",
       "0                  4.0  \n",
       "1                  4.0  \n",
       "2                  2.0  \n",
       "3                  2.0  \n",
       "4                  1.0  \n",
       "5                  5.0  \n",
       "6                 10.0  \n",
       "7                  1.0  \n",
       "8                  1.0  \n",
       "9                 11.0  "
      ]
     },
     "execution_count": 4,
     "metadata": {},
     "output_type": "execute_result"
    }
   ],
   "source": [
    "df_listining.rename(columns={\"id\":\"listining_id\"})\n",
    "df_listining.head(10)"
   ]
  },
  {
   "cell_type": "code",
   "execution_count": null,
   "metadata": {},
   "outputs": [],
   "source": [
    "df_listining.info()"
   ]
  },
  {
   "cell_type": "code",
   "execution_count": null,
   "metadata": {},
   "outputs": [],
   "source": [
    "df_listining.dropna(axis=1, how=\"all\")"
   ]
  },
  {
   "cell_type": "code",
   "execution_count": null,
   "metadata": {},
   "outputs": [],
   "source": [
    "df_listining.info()"
   ]
  },
  {
   "cell_type": "code",
   "execution_count": null,
   "metadata": {},
   "outputs": [],
   "source": [
    "df_reviews = pd.read_csv(\"./data/reviews.csv.gz\", compression=\"gzip\" )\n",
    "df_reviews.head()"
   ]
  },
  {
   "cell_type": "code",
   "execution_count": 5,
   "metadata": {},
   "outputs": [],
   "source": [
    "data = df_listining.to_dict(orient=\"records\")\n",
    "# data[0:10]"
   ]
  },
  {
   "cell_type": "code",
   "execution_count": null,
   "metadata": {},
   "outputs": [],
   "source": []
  },
  {
   "cell_type": "code",
   "execution_count": 6,
   "metadata": {},
   "outputs": [
    {
     "name": "stdout",
     "output_type": "stream",
     "text": [
      "{'id': 231497, 'listing_url': 'https://www.airbnb.com/rooms/231497', 'scrape_id': 20230922043705, 'host_id': 1207700, 'host_listings_count': 4.0}\n",
      "Error occurred during query execution:\n",
      "ConnectorError(ConnectorError { user_facing_error: None, kind: QueryError(Error { kind: ToSql(2), cause: Some(Error { kind: ConversionError(\"Unable to fit integer value '20230922043705' into an INT4 (32-bit signed integer).\"), original_code: None, original_message: None }) }), transient: false })\n",
      "{'id': 231516, 'listing_url': 'https://www.airbnb.com/rooms/231516', 'scrape_id': 20230922043705, 'host_id': 1207700, 'host_listings_count': 4.0}\n",
      "Error occurred during query execution:\n",
      "ConnectorError(ConnectorError { user_facing_error: None, kind: QueryError(Error { kind: ToSql(2), cause: Some(Error { kind: ConversionError(\"Unable to fit integer value '20230922043705' into an INT4 (32-bit signed integer).\"), original_code: None, original_message: None }) }), transient: false })\n",
      "{'id': 236991, 'listing_url': 'https://www.airbnb.com/rooms/236991', 'scrape_id': 20230922043705, 'host_id': 1241662, 'host_listings_count': 2.0}\n",
      "Error occurred during query execution:\n",
      "ConnectorError(ConnectorError { user_facing_error: None, kind: QueryError(Error { kind: ToSql(2), cause: Some(Error { kind: ConversionError(\"Unable to fit integer value '20230922043705' into an INT4 (32-bit signed integer).\"), original_code: None, original_message: None }) }), transient: false })\n",
      "{'id': 17878, 'listing_url': 'https://www.airbnb.com/rooms/17878', 'scrape_id': 20230922043705, 'host_id': 68997, 'host_listings_count': 2.0}\n",
      "Error occurred during query execution:\n",
      "ConnectorError(ConnectorError { user_facing_error: None, kind: QueryError(Error { kind: ToSql(2), cause: Some(Error { kind: ConversionError(\"Unable to fit integer value '20230922043705' into an INT4 (32-bit signed integer).\"), original_code: None, original_message: None }) }), transient: false })\n",
      "{'id': 25026, 'listing_url': 'https://www.airbnb.com/rooms/25026', 'scrape_id': 20230922043705, 'host_id': 102840, 'host_listings_count': 1.0}\n",
      "Error occurred during query execution:\n",
      "ConnectorError(ConnectorError { user_facing_error: None, kind: QueryError(Error { kind: ToSql(2), cause: Some(Error { kind: ConversionError(\"Unable to fit integer value '20230922043705' into an INT4 (32-bit signed integer).\"), original_code: None, original_message: None }) }), transient: false })\n",
      "{'id': 238802, 'listing_url': 'https://www.airbnb.com/rooms/238802', 'scrape_id': 20230922043705, 'host_id': 235496, 'host_listings_count': 5.0}\n",
      "Error occurred during query execution:\n",
      "ConnectorError(ConnectorError { user_facing_error: None, kind: QueryError(Error { kind: ToSql(2), cause: Some(Error { kind: ConversionError(\"Unable to fit integer value '20230922043705' into an INT4 (32-bit signed integer).\"), original_code: None, original_message: None }) }), transient: false })\n",
      "{'id': 239531, 'listing_url': 'https://www.airbnb.com/rooms/239531', 'scrape_id': 20230922043705, 'host_id': 792218, 'host_listings_count': 10.0}\n",
      "Error occurred during query execution:\n",
      "ConnectorError(ConnectorError { user_facing_error: None, kind: QueryError(Error { kind: ToSql(2), cause: Some(Error { kind: ConversionError(\"Unable to fit integer value '20230922043705' into an INT4 (32-bit signed integer).\"), original_code: None, original_message: None }) }), transient: false })\n",
      "{'id': 35764, 'listing_url': 'https://www.airbnb.com/rooms/35764', 'scrape_id': 20230922043705, 'host_id': 153691, 'host_listings_count': 1.0}\n",
      "Error occurred during query execution:\n",
      "ConnectorError(ConnectorError { user_facing_error: None, kind: QueryError(Error { kind: ToSql(2), cause: Some(Error { kind: ConversionError(\"Unable to fit integer value '20230922043705' into an INT4 (32-bit signed integer).\"), original_code: None, original_message: None }) }), transient: false })\n",
      "{'id': 245951, 'listing_url': 'https://www.airbnb.com/rooms/245951', 'scrape_id': 20230922043705, 'host_id': 1289982, 'host_listings_count': 1.0}\n",
      "Error occurred during query execution:\n",
      "ConnectorError(ConnectorError { user_facing_error: None, kind: QueryError(Error { kind: ToSql(2), cause: Some(Error { kind: ConversionError(\"Unable to fit integer value '20230922043705' into an INT4 (32-bit signed integer).\"), original_code: None, original_message: None }) }), transient: false })\n",
      "{'id': 48305, 'listing_url': 'https://www.airbnb.com/rooms/48305', 'scrape_id': 20230922043705, 'host_id': 70933, 'host_listings_count': 11.0}\n",
      "Error occurred during query execution:\n",
      "ConnectorError(ConnectorError { user_facing_error: None, kind: QueryError(Error { kind: ToSql(2), cause: Some(Error { kind: ConversionError(\"Unable to fit integer value '20230922043705' into an INT4 (32-bit signed integer).\"), original_code: None, original_message: None }) }), transient: false })\n"
     ]
    }
   ],
   "source": [
    "from prisma.models import Listining\n",
    "db = Prisma(auto_register=True)\n",
    "for row in data[0:10]:\n",
    "    await db.connect()\n",
    "    print(row)\n",
    "    try:\n",
    "        await Listining.prisma().create(data = row)\n",
    "    except Exception as e:\n",
    "        print(e)\n",
    "    finally:\n",
    "        await db.disconnect()"
   ]
  },
  {
   "cell_type": "code",
   "execution_count": null,
   "metadata": {},
   "outputs": [],
   "source": []
  }
 ],
 "metadata": {
  "kernelspec": {
   "display_name": ".venv",
   "language": "python",
   "name": "python3"
  },
  "language_info": {
   "codemirror_mode": {
    "name": "ipython",
    "version": 3
   },
   "file_extension": ".py",
   "mimetype": "text/x-python",
   "name": "python",
   "nbconvert_exporter": "python",
   "pygments_lexer": "ipython3",
   "version": "3.8.10"
  }
 },
 "nbformat": 4,
 "nbformat_minor": 2
}
