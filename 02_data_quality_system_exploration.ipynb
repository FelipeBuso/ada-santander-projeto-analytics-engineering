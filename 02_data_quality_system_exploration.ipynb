{
 "cells": [
  {
   "cell_type": "markdown",
   "metadata": {},
   "source": [
    "* STRING\n",
    "    * Nulidade\n",
    "        * Nan\n",
    "        * ''\n",
    "        * len <\n",
    "    * Padronização de textos\n",
    "        * Remoção de caracteres especiais\n",
    "* INTEGER\n",
    "* FLOAT"
   ]
  },
  {
   "cell_type": "markdown",
   "metadata": {},
   "source": [
    "# **DATA PIPELINE**"
   ]
  },
  {
   "cell_type": "code",
   "execution_count": 1,
   "metadata": {},
   "outputs": [],
   "source": [
    "import great_expectations as gx\n",
    "import pandas as pd"
   ]
  },
  {
   "cell_type": "code",
   "execution_count": 4,
   "metadata": {},
   "outputs": [],
   "source": [
    "# Validação do nome das colunas\n",
    "def validacao_nome_das_colunas(dataset_gx, padrao_dos_nomes):\n",
    "    # Teste de precisão do nome das colunas\n",
    "    expect_result = dataset_gx.expect_table_columns_to_match_set(padrao_dos_nomes)\n",
    "\n",
    "    if expect_result['success'] != True:\n",
    "        print('unexpected:', expect_result['result']['details']['mismatched']['unexpected'])\n",
    "        print('missing:', expect_result['result']['details']['mismatched']['missing'])\n",
    "\n",
    "        # TODO TRATAMENTO\n",
    "    else:\n",
    "        print('Nomes das colunas consistentes')\n",
    "\n",
    "\n",
    "# def "
   ]
  },
  {
   "cell_type": "code",
   "execution_count": 5,
   "metadata": {},
   "outputs": [
    {
     "name": "stdout",
     "output_type": "stream",
     "text": [
      "Nomes das colunas consistentes\n"
     ]
    }
   ],
   "source": [
    "# Padrão de nomes das colunas de Reviews\n",
    "df = gx.read_csv(r'.\\data\\reviews.csv.gz')\n",
    "\n",
    "reviews_columns_name_set = ['listing_id', 'id', 'date', 'reviewer_id', 'reviewer_name', 'comments']\n",
    "validacao_nome_das_colunas(dataset_gx=df, padrao_dos_nomes=reviews_columns_name_set)\n"
   ]
  },
  {
   "cell_type": "code",
   "execution_count": 40,
   "metadata": {},
   "outputs": [
    {
     "name": "stdout",
     "output_type": "stream",
     "text": [
      "Nomes das colunas consistentes\n"
     ]
    }
   ],
   "source": [
    "# Padrão de nomes das colunas de Calendar\n",
    "df = gx.read_csv(r'.\\data\\calendar.csv.gz')\n",
    "\n",
    "calendar_columns_name_set = ['listing_id', 'date', 'available', 'price', 'adjusted_price', 'minimum_nights', 'maximum_nights']\n",
    "validacao_nome_das_colunas(dataset_gx=df, padrao_dos_nomes=calendar_columns_name_set)"
   ]
  },
  {
   "cell_type": "code",
   "execution_count": 43,
   "metadata": {},
   "outputs": [
    {
     "name": "stdout",
     "output_type": "stream",
     "text": [
      "Nomes das colunas consistentes\n"
     ]
    }
   ],
   "source": [
    "# Padrão de nomes das colunas de Listings\n",
    "df = gx.read_csv(r'.\\data\\listings.csv.gz')\n",
    "\n",
    "calendar_columns_name_set = ['id', 'listing_url', 'scrape_id', 'last_scraped', 'source', 'name',\n",
    "       'description', 'neighborhood_overview', 'picture_url', 'host_id',\n",
    "       'host_url', 'host_name', 'host_since', 'host_location', 'host_about',\n",
    "       'host_response_time', 'host_response_rate', 'host_acceptance_rate',\n",
    "       'host_is_superhost', 'host_thumbnail_url', 'host_picture_url',\n",
    "       'host_neighbourhood', 'host_listings_count',\n",
    "       'host_total_listings_count', 'host_verifications',\n",
    "       'host_has_profile_pic', 'host_identity_verified', 'neighbourhood',\n",
    "       'neighbourhood_cleansed', 'neighbourhood_group_cleansed', 'latitude',\n",
    "       'longitude', 'property_type', 'room_type', 'accommodates', 'bathrooms',\n",
    "       'bathrooms_text', 'bedrooms', 'beds', 'amenities', 'price',\n",
    "       'minimum_nights', 'maximum_nights', 'minimum_minimum_nights',\n",
    "       'maximum_minimum_nights', 'minimum_maximum_nights',\n",
    "       'maximum_maximum_nights', 'minimum_nights_avg_ntm',\n",
    "       'maximum_nights_avg_ntm', 'calendar_updated', 'has_availability',\n",
    "       'availability_30', 'availability_60', 'availability_90',\n",
    "       'availability_365', 'calendar_last_scraped', 'number_of_reviews',\n",
    "       'number_of_reviews_ltm', 'number_of_reviews_l30d', 'first_review',\n",
    "       'last_review', 'review_scores_rating', 'review_scores_accuracy',\n",
    "       'review_scores_cleanliness', 'review_scores_checkin',\n",
    "       'review_scores_communication', 'review_scores_location',\n",
    "       'review_scores_value', 'license', 'instant_bookable',\n",
    "       'calculated_host_listings_count',\n",
    "       'calculated_host_listings_count_entire_homes',\n",
    "       'calculated_host_listings_count_private_rooms',\n",
    "       'calculated_host_listings_count_shared_rooms', 'reviews_per_month']\n",
    "validacao_nome_das_colunas(dataset_gx=df, padrao_dos_nomes=calendar_columns_name_set)"
   ]
  },
  {
   "cell_type": "code",
   "execution_count": 68,
   "metadata": {},
   "outputs": [
    {
     "data": {
      "text/html": [
       "<div>\n",
       "<style scoped>\n",
       "    .dataframe tbody tr th:only-of-type {\n",
       "        vertical-align: middle;\n",
       "    }\n",
       "\n",
       "    .dataframe tbody tr th {\n",
       "        vertical-align: top;\n",
       "    }\n",
       "\n",
       "    .dataframe thead th {\n",
       "        text-align: right;\n",
       "    }\n",
       "</style>\n",
       "<table border=\"1\" class=\"dataframe\">\n",
       "  <thead>\n",
       "    <tr style=\"text-align: right;\">\n",
       "      <th></th>\n",
       "      <th>listing_id</th>\n",
       "      <th>id</th>\n",
       "      <th>date</th>\n",
       "      <th>reviewer_id</th>\n",
       "      <th>reviewer_name</th>\n",
       "      <th>comments</th>\n",
       "    </tr>\n",
       "  </thead>\n",
       "  <tbody>\n",
       "    <tr>\n",
       "      <th>0</th>\n",
       "      <td>231497</td>\n",
       "      <td>726625</td>\n",
       "      <td>2011-11-17</td>\n",
       "      <td>1356783</td>\n",
       "      <td>Jenny</td>\n",
       "      <td>Es un apartastudio muy bien ubicado. Tiene lo ...</td>\n",
       "    </tr>\n",
       "    <tr>\n",
       "      <th>1</th>\n",
       "      <td>17878</td>\n",
       "      <td>64852</td>\n",
       "      <td>2010-07-15</td>\n",
       "      <td>135370</td>\n",
       "      <td>Tia</td>\n",
       "      <td>This apartment is in a perfect location -- two...</td>\n",
       "    </tr>\n",
       "    <tr>\n",
       "      <th>2</th>\n",
       "      <td>17878</td>\n",
       "      <td>76744</td>\n",
       "      <td>2010-08-11</td>\n",
       "      <td>10206</td>\n",
       "      <td>Mimi</td>\n",
       "      <td>we had a really great experience staying in Ma...</td>\n",
       "    </tr>\n",
       "    <tr>\n",
       "      <th>3</th>\n",
       "      <td>17878</td>\n",
       "      <td>91074</td>\n",
       "      <td>2010-09-06</td>\n",
       "      <td>80253</td>\n",
       "      <td>Jan</td>\n",
       "      <td>Staying in Max appartment is like living in a ...</td>\n",
       "    </tr>\n",
       "    <tr>\n",
       "      <th>4</th>\n",
       "      <td>17878</td>\n",
       "      <td>137528</td>\n",
       "      <td>2010-11-12</td>\n",
       "      <td>230449</td>\n",
       "      <td>Orene</td>\n",
       "      <td>In general very good and reasonable price.\\r&lt;b...</td>\n",
       "    </tr>\n",
       "  </tbody>\n",
       "</table>\n",
       "</div>"
      ],
      "text/plain": [
       "   listing_id      id        date  reviewer_id reviewer_name  \\\n",
       "0      231497  726625  2011-11-17      1356783         Jenny   \n",
       "1       17878   64852  2010-07-15       135370           Tia   \n",
       "2       17878   76744  2010-08-11        10206          Mimi   \n",
       "3       17878   91074  2010-09-06        80253           Jan   \n",
       "4       17878  137528  2010-11-12       230449         Orene   \n",
       "\n",
       "                                            comments  \n",
       "0  Es un apartastudio muy bien ubicado. Tiene lo ...  \n",
       "1  This apartment is in a perfect location -- two...  \n",
       "2  we had a really great experience staying in Ma...  \n",
       "3  Staying in Max appartment is like living in a ...  \n",
       "4  In general very good and reasonable price.\\r<b...  "
      ]
     },
     "execution_count": 68,
     "metadata": {},
     "output_type": "execute_result"
    }
   ],
   "source": [
    "df.head()"
   ]
  },
  {
   "cell_type": "code",
   "execution_count": 69,
   "metadata": {},
   "outputs": [
    {
     "data": {
      "text/plain": [
       "listing_id        int64\n",
       "id                int64\n",
       "date             object\n",
       "reviewer_id       int64\n",
       "reviewer_name    object\n",
       "comments         object\n",
       "dtype: object"
      ]
     },
     "execution_count": 69,
     "metadata": {},
     "output_type": "execute_result"
    }
   ],
   "source": [
    "df.dtypes"
   ]
  },
  {
   "cell_type": "code",
   "execution_count": 95,
   "metadata": {},
   "outputs": [
    {
     "name": "stdout",
     "output_type": "stream",
     "text": [
      "<class 'great_expectations.dataset.pandas_dataset.PandasDataset'>\n",
      "RangeIndex: 637307 entries, 0 to 637306\n",
      "Data columns (total 6 columns):\n",
      " #   Column         Non-Null Count   Dtype \n",
      "---  ------         --------------   ----- \n",
      " 0   listing_id     637307 non-null  int64 \n",
      " 1   id             637307 non-null  int64 \n",
      " 2   date           637307 non-null  object\n",
      " 3   reviewer_id    637307 non-null  int64 \n",
      " 4   reviewer_name  637307 non-null  object\n",
      " 5   comments       637307 non-null  object\n",
      "dtypes: int64(3), object(3)\n",
      "memory usage: 29.2+ MB\n"
     ]
    }
   ],
   "source": [
    "df.info()"
   ]
  },
  {
   "cell_type": "markdown",
   "metadata": {},
   "source": [
    "**Teste de Completude**"
   ]
  },
  {
   "cell_type": "code",
   "execution_count": 91,
   "metadata": {},
   "outputs": [
    {
     "name": "stdout",
     "output_type": "stream",
     "text": [
      " Coluna comments - qtde de nan: 19 (0.30%)\n"
     ]
    }
   ],
   "source": [
    "results = []\n",
    "# Teste de Completude\n",
    "for c in df.columns:\n",
    "    results.append(df.expect_column_values_to_not_be_null(column=c, meta={'column': c}))\n",
    "\n",
    "\n",
    "# Tratamento de completude\n",
    "falhas = [r for r in results if r['success']==False]\n",
    "if len(falhas) >= 1:\n",
    "    for result in falhas:\n",
    "        # Extração de dados dos resultado\n",
    "        column = result['meta']['column']\n",
    "        unexpected_count = result['result']['unexpected_count']\n",
    "        unexpected_percent = result['result']['unexpected_percent_total']\n",
    "\n",
    "        # logger\n",
    "        print(f\" Coluna {column} - qtde de nan: {unexpected_count} ({unexpected_percent:.2%})\")\n",
    "        \n",
    "        # Preenchimento de Na\n",
    "        df[column].fillna('No description provided', inplace=True)\n",
    "else:\n",
    "    print('Qualidade validada')"
   ]
  },
  {
   "cell_type": "code",
   "execution_count": 93,
   "metadata": {},
   "outputs": [
    {
     "name": "stdout",
     "output_type": "stream",
     "text": [
      "Qualidade validada\n"
     ]
    }
   ],
   "source": [
    "results = []\n",
    "# Teste de Completude\n",
    "for c in df.columns:\n",
    "    results.append(df.expect_column_values_to_not_be_null(column=c, meta={'column': c}))\n",
    "\n",
    "\n",
    "# Tratamento de completude\n",
    "falhas = [r for r in results if r['success']==False]\n",
    "if len(falhas) >= 1:\n",
    "    for result in falhas:\n",
    "        # Extração de dados dos resultado\n",
    "        column = result['meta']['column']\n",
    "        unexpected_count = result['result']['unexpected_count']\n",
    "        unexpected_percent = result['result']['unexpected_percent_total']\n",
    "\n",
    "        # logger\n",
    "        print(f\" Coluna {column} - qtde de nan: {unexpected_count} ({unexpected_percent:.2%})\")\n",
    "        \n",
    "        # Preenchimento de Na\n",
    "        df[column].fillna('No description provided', inplace=True)\n",
    "else:\n",
    "    print('Qualidade validada')"
   ]
  },
  {
   "cell_type": "markdown",
   "metadata": {},
   "source": [
    "**String de Descrição**"
   ]
  },
  {
   "cell_type": "code",
   "execution_count": null,
   "metadata": {},
   "outputs": [],
   "source": [
    "df.expect_column_values_to_not_match_regex_list('comments', ['^(<.*>|\\r|\\\\.|--)$', ''])"
   ]
  },
  {
   "cell_type": "code",
   "execution_count": null,
   "metadata": {},
   "outputs": [],
   "source": [
    "results = []\n",
    "# Teste de Completude\n",
    "for c in df.columns:\n",
    "    results.append(df.expect_ )(column=c, meta={'column': c}))\n",
    "\n",
    "[r for r in results if r['success']==False]\n",
    "# Tratamento de completude\n",
    "# falhas = [r for r in results if r['success']==False]\n",
    "# if len(falhas) >= 1:\n",
    "#     for result in falhas:\n",
    "#         # Extração de dados dos resultado\n",
    "#         column = result['meta']['column']\n",
    "#         unexpected_count = result['result']['unexpected_count']\n",
    "#         unexpected_percent = result['result']['unexpected_percent_total']\n",
    "\n",
    "#         # logger\n",
    "#         print(f\" Coluna {column} - qtde de nan: {unexpected_count} ({unexpected_percent:.2%})\")\n",
    "        \n",
    "#         # Preenchimento de Na\n",
    "#         df[column].fillna('No description provided', inplace=True)\n",
    "# else:\n",
    "#     print('Qualidade validada')"
   ]
  },
  {
   "cell_type": "markdown",
   "metadata": {},
   "source": [
    "## Reviews"
   ]
  },
  {
   "cell_type": "code",
   "execution_count": 6,
   "metadata": {},
   "outputs": [
    {
     "data": {
      "text/html": [
       "<div>\n",
       "<style scoped>\n",
       "    .dataframe tbody tr th:only-of-type {\n",
       "        vertical-align: middle;\n",
       "    }\n",
       "\n",
       "    .dataframe tbody tr th {\n",
       "        vertical-align: top;\n",
       "    }\n",
       "\n",
       "    .dataframe thead th {\n",
       "        text-align: right;\n",
       "    }\n",
       "</style>\n",
       "<table border=\"1\" class=\"dataframe\">\n",
       "  <thead>\n",
       "    <tr style=\"text-align: right;\">\n",
       "      <th></th>\n",
       "      <th>listing_id</th>\n",
       "      <th>id</th>\n",
       "      <th>date</th>\n",
       "      <th>reviewer_id</th>\n",
       "      <th>reviewer_name</th>\n",
       "      <th>comments</th>\n",
       "    </tr>\n",
       "  </thead>\n",
       "  <tbody>\n",
       "    <tr>\n",
       "      <th>0</th>\n",
       "      <td>231497</td>\n",
       "      <td>726625</td>\n",
       "      <td>2011-11-17</td>\n",
       "      <td>1356783</td>\n",
       "      <td>Jenny</td>\n",
       "      <td>Es un apartastudio muy bien ubicado. Tiene lo ...</td>\n",
       "    </tr>\n",
       "    <tr>\n",
       "      <th>1</th>\n",
       "      <td>17878</td>\n",
       "      <td>64852</td>\n",
       "      <td>2010-07-15</td>\n",
       "      <td>135370</td>\n",
       "      <td>Tia</td>\n",
       "      <td>This apartment is in a perfect location -- two...</td>\n",
       "    </tr>\n",
       "    <tr>\n",
       "      <th>2</th>\n",
       "      <td>17878</td>\n",
       "      <td>76744</td>\n",
       "      <td>2010-08-11</td>\n",
       "      <td>10206</td>\n",
       "      <td>Mimi</td>\n",
       "      <td>we had a really great experience staying in Ma...</td>\n",
       "    </tr>\n",
       "    <tr>\n",
       "      <th>3</th>\n",
       "      <td>17878</td>\n",
       "      <td>91074</td>\n",
       "      <td>2010-09-06</td>\n",
       "      <td>80253</td>\n",
       "      <td>Jan</td>\n",
       "      <td>Staying in Max appartment is like living in a ...</td>\n",
       "    </tr>\n",
       "    <tr>\n",
       "      <th>4</th>\n",
       "      <td>17878</td>\n",
       "      <td>137528</td>\n",
       "      <td>2010-11-12</td>\n",
       "      <td>230449</td>\n",
       "      <td>Orene</td>\n",
       "      <td>In general very good and reasonable price.\\r&lt;b...</td>\n",
       "    </tr>\n",
       "    <tr>\n",
       "      <th>...</th>\n",
       "      <td>...</td>\n",
       "      <td>...</td>\n",
       "      <td>...</td>\n",
       "      <td>...</td>\n",
       "      <td>...</td>\n",
       "      <td>...</td>\n",
       "    </tr>\n",
       "    <tr>\n",
       "      <th>637302</th>\n",
       "      <td>980284448065462717</td>\n",
       "      <td>984807416703697120</td>\n",
       "      <td>2023-09-20</td>\n",
       "      <td>7754275</td>\n",
       "      <td>Nancy</td>\n",
       "      <td>Pour passer un séjour authentique dans un quar...</td>\n",
       "    </tr>\n",
       "    <tr>\n",
       "      <th>637303</th>\n",
       "      <td>979157528511400272</td>\n",
       "      <td>980387014240041411</td>\n",
       "      <td>2023-09-14</td>\n",
       "      <td>46564596</td>\n",
       "      <td>Renata</td>\n",
       "      <td>O apartamento é maravilhoso! Fiquei apaixonada...</td>\n",
       "    </tr>\n",
       "    <tr>\n",
       "      <th>637304</th>\n",
       "      <td>979157528511400272</td>\n",
       "      <td>983311500184670764</td>\n",
       "      <td>2023-09-18</td>\n",
       "      <td>240217909</td>\n",
       "      <td>Jorge</td>\n",
       "      <td>O loft é muito aconchegante e bem localizado. ...</td>\n",
       "    </tr>\n",
       "    <tr>\n",
       "      <th>637305</th>\n",
       "      <td>979548196812644568</td>\n",
       "      <td>983385320310636213</td>\n",
       "      <td>2023-09-18</td>\n",
       "      <td>537025548</td>\n",
       "      <td>Darian</td>\n",
       "      <td>Very great will stay again!</td>\n",
       "    </tr>\n",
       "    <tr>\n",
       "      <th>637306</th>\n",
       "      <td>982590244333846157</td>\n",
       "      <td>984070989742768416</td>\n",
       "      <td>2023-09-19</td>\n",
       "      <td>252364341</td>\n",
       "      <td>Maria Celina</td>\n",
       "      <td>Location, location, location! &lt;br/&gt;I had previ...</td>\n",
       "    </tr>\n",
       "  </tbody>\n",
       "</table>\n",
       "<p>637307 rows × 6 columns</p>\n",
       "</div>"
      ],
      "text/plain": [
       "                listing_id                  id        date  reviewer_id  \\\n",
       "0                   231497              726625  2011-11-17      1356783   \n",
       "1                    17878               64852  2010-07-15       135370   \n",
       "2                    17878               76744  2010-08-11        10206   \n",
       "3                    17878               91074  2010-09-06        80253   \n",
       "4                    17878              137528  2010-11-12       230449   \n",
       "...                    ...                 ...         ...          ...   \n",
       "637302  980284448065462717  984807416703697120  2023-09-20      7754275   \n",
       "637303  979157528511400272  980387014240041411  2023-09-14     46564596   \n",
       "637304  979157528511400272  983311500184670764  2023-09-18    240217909   \n",
       "637305  979548196812644568  983385320310636213  2023-09-18    537025548   \n",
       "637306  982590244333846157  984070989742768416  2023-09-19    252364341   \n",
       "\n",
       "       reviewer_name                                           comments  \n",
       "0              Jenny  Es un apartastudio muy bien ubicado. Tiene lo ...  \n",
       "1                Tia  This apartment is in a perfect location -- two...  \n",
       "2               Mimi  we had a really great experience staying in Ma...  \n",
       "3                Jan  Staying in Max appartment is like living in a ...  \n",
       "4              Orene  In general very good and reasonable price.\\r<b...  \n",
       "...              ...                                                ...  \n",
       "637302         Nancy  Pour passer un séjour authentique dans un quar...  \n",
       "637303        Renata  O apartamento é maravilhoso! Fiquei apaixonada...  \n",
       "637304         Jorge  O loft é muito aconchegante e bem localizado. ...  \n",
       "637305        Darian                        Very great will stay again!  \n",
       "637306  Maria Celina  Location, location, location! <br/>I had previ...  \n",
       "\n",
       "[637307 rows x 6 columns]"
      ]
     },
     "execution_count": 6,
     "metadata": {},
     "output_type": "execute_result"
    }
   ],
   "source": [
    "df"
   ]
  },
  {
   "cell_type": "code",
   "execution_count": 24,
   "metadata": {},
   "outputs": [
    {
     "ename": "NameError",
     "evalue": "name 'c' is not defined",
     "output_type": "error",
     "traceback": [
      "\u001b[1;31m---------------------------------------------------------------------------\u001b[0m",
      "\u001b[1;31mNameError\u001b[0m                                 Traceback (most recent call last)",
      "\u001b[1;32mc:\\Users\\RosaLux\\Downloads\\LIXO\\__DESENVOLVE\\_ADA\\5_modulo\\ada-santander-projeto-analytics-engineering\\02_data_quality_system_exploration.ipynb Cell 18\u001b[0m line \u001b[0;36m1\n\u001b[0;32m      <a href='vscode-notebook-cell:/c%3A/Users/RosaLux/Downloads/LIXO/__DESENVOLVE/_ADA/5_modulo/ada-santander-projeto-analytics-engineering/02_data_quality_system_exploration.ipynb#X40sZmlsZQ%3D%3D?line=0'>1</a>\u001b[0m \u001b[39m# ['listing_id', 'id', 'date', 'reviewer_id', 'reviewer_name', 'comments']\u001b[39;00m\n\u001b[0;32m      <a href='vscode-notebook-cell:/c%3A/Users/RosaLux/Downloads/LIXO/__DESENVOLVE/_ADA/5_modulo/ada-santander-projeto-analytics-engineering/02_data_quality_system_exploration.ipynb#X40sZmlsZQ%3D%3D?line=1'>2</a>\u001b[0m results \u001b[39m=\u001b[39m [\n\u001b[0;32m      <a href='vscode-notebook-cell:/c%3A/Users/RosaLux/Downloads/LIXO/__DESENVOLVE/_ADA/5_modulo/ada-santander-projeto-analytics-engineering/02_data_quality_system_exploration.ipynb#X40sZmlsZQ%3D%3D?line=2'>3</a>\u001b[0m df\u001b[39m.\u001b[39mexpect_column_values_to_be_of_type(\u001b[39m'\u001b[39m\u001b[39mlisting_id\u001b[39m\u001b[39m'\u001b[39m, \u001b[39m'\u001b[39m\u001b[39mint64\u001b[39m\u001b[39m'\u001b[39m),\n\u001b[0;32m      <a href='vscode-notebook-cell:/c%3A/Users/RosaLux/Downloads/LIXO/__DESENVOLVE/_ADA/5_modulo/ada-santander-projeto-analytics-engineering/02_data_quality_system_exploration.ipynb#X40sZmlsZQ%3D%3D?line=3'>4</a>\u001b[0m df\u001b[39m.\u001b[39mexpect_column_values_to_be_of_type(\u001b[39m'\u001b[39m\u001b[39mid\u001b[39m\u001b[39m'\u001b[39m, \u001b[39m'\u001b[39m\u001b[39mint64\u001b[39m\u001b[39m'\u001b[39m),\n\u001b[0;32m      <a href='vscode-notebook-cell:/c%3A/Users/RosaLux/Downloads/LIXO/__DESENVOLVE/_ADA/5_modulo/ada-santander-projeto-analytics-engineering/02_data_quality_system_exploration.ipynb#X40sZmlsZQ%3D%3D?line=4'>5</a>\u001b[0m df\u001b[39m.\u001b[39mexpect_column_values_to_be_of_type(\u001b[39m'\u001b[39m\u001b[39mreviewer_id\u001b[39m\u001b[39m'\u001b[39m, \u001b[39m'\u001b[39m\u001b[39mint64\u001b[39m\u001b[39m'\u001b[39m),\n\u001b[0;32m      <a href='vscode-notebook-cell:/c%3A/Users/RosaLux/Downloads/LIXO/__DESENVOLVE/_ADA/5_modulo/ada-santander-projeto-analytics-engineering/02_data_quality_system_exploration.ipynb#X40sZmlsZQ%3D%3D?line=5'>6</a>\u001b[0m df\u001b[39m.\u001b[39mexpect_column_values_to_be_of_type(\u001b[39m'\u001b[39m\u001b[39mreviewer_name\u001b[39m\u001b[39m'\u001b[39m, \u001b[39m'\u001b[39m\u001b[39mstr\u001b[39m\u001b[39m'\u001b[39m),\n\u001b[0;32m      <a href='vscode-notebook-cell:/c%3A/Users/RosaLux/Downloads/LIXO/__DESENVOLVE/_ADA/5_modulo/ada-santander-projeto-analytics-engineering/02_data_quality_system_exploration.ipynb#X40sZmlsZQ%3D%3D?line=6'>7</a>\u001b[0m df\u001b[39m.\u001b[39mexpect_column_values_to_be_of_type(\u001b[39m'\u001b[39m\u001b[39mcomments\u001b[39m\u001b[39m'\u001b[39m, \u001b[39m'\u001b[39m\u001b[39mstr\u001b[39m\u001b[39m'\u001b[39m),\n\u001b[0;32m      <a href='vscode-notebook-cell:/c%3A/Users/RosaLux/Downloads/LIXO/__DESENVOLVE/_ADA/5_modulo/ada-santander-projeto-analytics-engineering/02_data_quality_system_exploration.ipynb#X40sZmlsZQ%3D%3D?line=7'>8</a>\u001b[0m df\u001b[39m.\u001b[39mexpect_column_values_to_be_of_type(\u001b[39m'\u001b[39m\u001b[39mdate\u001b[39m\u001b[39m'\u001b[39m, \u001b[39m'\u001b[39m\u001b[39mstr\u001b[39m\u001b[39m'\u001b[39m),\n\u001b[0;32m      <a href='vscode-notebook-cell:/c%3A/Users/RosaLux/Downloads/LIXO/__DESENVOLVE/_ADA/5_modulo/ada-santander-projeto-analytics-engineering/02_data_quality_system_exploration.ipynb#X40sZmlsZQ%3D%3D?line=8'>9</a>\u001b[0m df\u001b[39m.\u001b[39mexpect_column_values_to_match_strftime_format(\u001b[39m'\u001b[39m\u001b[39mdate\u001b[39m\u001b[39m'\u001b[39m, \u001b[39m'\u001b[39m\u001b[39m%\u001b[39m\u001b[39mY-\u001b[39m\u001b[39m%\u001b[39m\u001b[39mm-\u001b[39m\u001b[39m%d\u001b[39;00m\u001b[39m'\u001b[39m),\n\u001b[0;32m     <a href='vscode-notebook-cell:/c%3A/Users/RosaLux/Downloads/LIXO/__DESENVOLVE/_ADA/5_modulo/ada-santander-projeto-analytics-engineering/02_data_quality_system_exploration.ipynb#X40sZmlsZQ%3D%3D?line=9'>10</a>\u001b[0m \n\u001b[1;32m---> <a href='vscode-notebook-cell:/c%3A/Users/RosaLux/Downloads/LIXO/__DESENVOLVE/_ADA/5_modulo/ada-santander-projeto-analytics-engineering/02_data_quality_system_exploration.ipynb#X40sZmlsZQ%3D%3D?line=10'>11</a>\u001b[0m df\u001b[39m.\u001b[39mexpect_column_values_to_not_be_null(column\u001b[39m=\u001b[39m\u001b[39m'\u001b[39m\u001b[39mlisting_id\u001b[39m\u001b[39m'\u001b[39m, meta\u001b[39m=\u001b[39m{\u001b[39m'\u001b[39m\u001b[39mcolumn\u001b[39m\u001b[39m'\u001b[39m: c}),\n\u001b[0;32m     <a href='vscode-notebook-cell:/c%3A/Users/RosaLux/Downloads/LIXO/__DESENVOLVE/_ADA/5_modulo/ada-santander-projeto-analytics-engineering/02_data_quality_system_exploration.ipynb#X40sZmlsZQ%3D%3D?line=11'>12</a>\u001b[0m df\u001b[39m.\u001b[39mexpect_column_values_to_not_be_null(column\u001b[39m=\u001b[39m\u001b[39m'\u001b[39m\u001b[39mid\u001b[39m\u001b[39m'\u001b[39m, meta\u001b[39m=\u001b[39m{\u001b[39m'\u001b[39m\u001b[39mcolumn\u001b[39m\u001b[39m'\u001b[39m: c}),\n\u001b[0;32m     <a href='vscode-notebook-cell:/c%3A/Users/RosaLux/Downloads/LIXO/__DESENVOLVE/_ADA/5_modulo/ada-santander-projeto-analytics-engineering/02_data_quality_system_exploration.ipynb#X40sZmlsZQ%3D%3D?line=12'>13</a>\u001b[0m df\u001b[39m.\u001b[39mexpect_column_values_to_not_be_null(column\u001b[39m=\u001b[39m\u001b[39m'\u001b[39m\u001b[39mreviewer_id\u001b[39m\u001b[39m'\u001b[39m, meta\u001b[39m=\u001b[39m{\u001b[39m'\u001b[39m\u001b[39mcolumn\u001b[39m\u001b[39m'\u001b[39m: c}),\n\u001b[0;32m     <a href='vscode-notebook-cell:/c%3A/Users/RosaLux/Downloads/LIXO/__DESENVOLVE/_ADA/5_modulo/ada-santander-projeto-analytics-engineering/02_data_quality_system_exploration.ipynb#X40sZmlsZQ%3D%3D?line=13'>14</a>\u001b[0m df\u001b[39m.\u001b[39mexpect_column_values_to_not_be_null(column\u001b[39m=\u001b[39m\u001b[39m'\u001b[39m\u001b[39mreviewer_name\u001b[39m\u001b[39m'\u001b[39m, meta\u001b[39m=\u001b[39m{\u001b[39m'\u001b[39m\u001b[39mcolumn\u001b[39m\u001b[39m'\u001b[39m: c}),\n\u001b[0;32m     <a href='vscode-notebook-cell:/c%3A/Users/RosaLux/Downloads/LIXO/__DESENVOLVE/_ADA/5_modulo/ada-santander-projeto-analytics-engineering/02_data_quality_system_exploration.ipynb#X40sZmlsZQ%3D%3D?line=14'>15</a>\u001b[0m df\u001b[39m.\u001b[39mexpect_column_values_to_not_be_null(column\u001b[39m=\u001b[39m\u001b[39m'\u001b[39m\u001b[39mcomments\u001b[39m\u001b[39m'\u001b[39m, meta\u001b[39m=\u001b[39m{\u001b[39m'\u001b[39m\u001b[39mcolumn\u001b[39m\u001b[39m'\u001b[39m: c}),\n\u001b[0;32m     <a href='vscode-notebook-cell:/c%3A/Users/RosaLux/Downloads/LIXO/__DESENVOLVE/_ADA/5_modulo/ada-santander-projeto-analytics-engineering/02_data_quality_system_exploration.ipynb#X40sZmlsZQ%3D%3D?line=15'>16</a>\u001b[0m df\u001b[39m.\u001b[39mexpect_column_values_to_not_be_null(column\u001b[39m=\u001b[39m\u001b[39m'\u001b[39m\u001b[39mdate\u001b[39m\u001b[39m'\u001b[39m, meta\u001b[39m=\u001b[39m{\u001b[39m'\u001b[39m\u001b[39mcolumn\u001b[39m\u001b[39m'\u001b[39m: c}),\n\u001b[0;32m     <a href='vscode-notebook-cell:/c%3A/Users/RosaLux/Downloads/LIXO/__DESENVOLVE/_ADA/5_modulo/ada-santander-projeto-analytics-engineering/02_data_quality_system_exploration.ipynb#X40sZmlsZQ%3D%3D?line=16'>17</a>\u001b[0m ]\n\u001b[0;32m     <a href='vscode-notebook-cell:/c%3A/Users/RosaLux/Downloads/LIXO/__DESENVOLVE/_ADA/5_modulo/ada-santander-projeto-analytics-engineering/02_data_quality_system_exploration.ipynb#X40sZmlsZQ%3D%3D?line=18'>19</a>\u001b[0m [r \u001b[39mfor\u001b[39;00m r \u001b[39min\u001b[39;00m results \u001b[39mif\u001b[39;00m r[\u001b[39m'\u001b[39m\u001b[39msuccess\u001b[39m\u001b[39m'\u001b[39m]\u001b[39m==\u001b[39m\u001b[39mFalse\u001b[39;00m]\n",
      "\u001b[1;31mNameError\u001b[0m: name 'c' is not defined"
     ]
    }
   ],
   "source": [
    "# ['listing_id', 'id', 'date', 'reviewer_id', 'reviewer_name', 'comments']\n",
    "results = [\n",
    "df.expect_column_values_to_be_of_type('listing_id', 'int64'),\n",
    "df.expect_column_values_to_be_of_type('id', 'int64'),\n",
    "df.expect_column_values_to_be_of_type('reviewer_id', 'int64'),\n",
    "df.expect_column_values_to_be_of_type('reviewer_name', 'str'),\n",
    "df.expect_column_values_to_be_of_type('comments', 'str'),\n",
    "df.expect_column_values_to_be_of_type('date', 'str'),\n",
    "df.expect_column_values_to_match_strftime_format('date', '%Y-%m-%d'),\n",
    "\n",
    "df.expect_column_values_to_not_be_null(column='listing_id', meta={'column': c}),\n",
    "df.expect_column_values_to_not_be_null(column='id', meta={'column': c}),\n",
    "df.expect_column_values_to_not_be_null(column='reviewer_id', meta={'column': c}),\n",
    "df.expect_column_values_to_not_be_null(column='reviewer_name', meta={'column': c}),\n",
    "df.expect_column_values_to_not_be_null(column='comments', meta={'column': c}),\n",
    "df.expect_column_values_to_not_be_null(column='date', meta={'column': c}),\n",
    "]\n",
    "\n",
    "[r for r in results if r['success']==False]"
   ]
  },
  {
   "cell_type": "code",
   "execution_count": null,
   "metadata": {},
   "outputs": [],
   "source": [
    "df"
   ]
  },
  {
   "cell_type": "code",
   "execution_count": 22,
   "metadata": {},
   "outputs": [
    {
     "data": {
      "text/plain": [
       "{\n",
       "  \"expectation_suite_name\": \"default\",\n",
       "  \"ge_cloud_id\": null,\n",
       "  \"expectations\": [\n",
       "    {\n",
       "      \"expectation_type\": \"expect_table_columns_to_match_set\",\n",
       "      \"kwargs\": {\n",
       "        \"column_set\": [\n",
       "          \"listing_id\",\n",
       "          \"id\",\n",
       "          \"date\",\n",
       "          \"reviewer_id\",\n",
       "          \"reviewer_name\",\n",
       "          \"comments\"\n",
       "        ]\n",
       "      },\n",
       "      \"meta\": {}\n",
       "    },\n",
       "    {\n",
       "      \"expectation_type\": \"expect_column_values_to_be_of_type\",\n",
       "      \"kwargs\": {\n",
       "        \"column\": \"listing_id\",\n",
       "        \"type_\": \"int64\"\n",
       "      },\n",
       "      \"meta\": {}\n",
       "    },\n",
       "    {\n",
       "      \"expectation_type\": \"expect_column_values_to_be_of_type\",\n",
       "      \"kwargs\": {\n",
       "        \"column\": \"id\",\n",
       "        \"type_\": \"int64\"\n",
       "      },\n",
       "      \"meta\": {}\n",
       "    },\n",
       "    {\n",
       "      \"expectation_type\": \"expect_column_values_to_be_of_type\",\n",
       "      \"kwargs\": {\n",
       "        \"column\": \"reviewer_id\",\n",
       "        \"type_\": \"int64\"\n",
       "      },\n",
       "      \"meta\": {}\n",
       "    },\n",
       "    {\n",
       "      \"expectation_type\": \"expect_column_values_to_be_of_type\",\n",
       "      \"kwargs\": {\n",
       "        \"column\": \"date\",\n",
       "        \"type_\": \"str\"\n",
       "      },\n",
       "      \"meta\": {}\n",
       "    },\n",
       "    {\n",
       "      \"expectation_type\": \"expect_column_values_to_be_of_type\",\n",
       "      \"kwargs\": {\n",
       "        \"column\": \"reviewer_name\",\n",
       "        \"type_\": \"str\"\n",
       "      },\n",
       "      \"meta\": {}\n",
       "    },\n",
       "    {\n",
       "      \"expectation_type\": \"expect_column_values_to_be_of_type\",\n",
       "      \"kwargs\": {\n",
       "        \"column\": \"comments\",\n",
       "        \"type_\": \"str\"\n",
       "      },\n",
       "      \"meta\": {}\n",
       "    }\n",
       "  ],\n",
       "  \"data_asset_type\": \"Dataset\",\n",
       "  \"meta\": {\n",
       "    \"great_expectations_version\": \"0.17.23\"\n",
       "  }\n",
       "}"
      ]
     },
     "execution_count": 22,
     "metadata": {},
     "output_type": "execute_result"
    }
   ],
   "source": [
    "df.get_expectation_suite()"
   ]
  },
  {
   "cell_type": "markdown",
   "metadata": {},
   "source": [
    "# **DEPLOY**"
   ]
  },
  {
   "cell_type": "code",
   "execution_count": 25,
   "metadata": {},
   "outputs": [],
   "source": [
    "# Data Context\n",
    "data_context_path = '.'\n",
    "context = gx.data_context.FileDataContext.create(project_root_dir=data_context_path)"
   ]
  },
  {
   "cell_type": "markdown",
   "metadata": {},
   "source": [
    "## **MONITORAMENTO RAW**"
   ]
  },
  {
   "cell_type": "code",
   "execution_count": null,
   "metadata": {},
   "outputs": [],
   "source": []
  },
  {
   "cell_type": "code",
   "execution_count": 26,
   "metadata": {},
   "outputs": [
    {
     "ename": "TypeError",
     "evalue": "AbstractDataContext.add_expectation_suite() got an unexpected keyword argument 'overwrite_existing'",
     "output_type": "error",
     "traceback": [
      "\u001b[1;31m---------------------------------------------------------------------------\u001b[0m",
      "\u001b[1;31mTypeError\u001b[0m                                 Traceback (most recent call last)",
      "\u001b[1;32mc:\\Users\\RosaLux\\Downloads\\LIXO\\__DESENVOLVE\\_ADA\\5_modulo\\ada-santander-projeto-analytics-engineering\\02_data_quality_system_exploration.ipynb Cell 26\u001b[0m line \u001b[0;36m4\n\u001b[0;32m      <a href='vscode-notebook-cell:/c%3A/Users/RosaLux/Downloads/LIXO/__DESENVOLVE/_ADA/5_modulo/ada-santander-projeto-analytics-engineering/02_data_quality_system_exploration.ipynb#X26sZmlsZQ%3D%3D?line=0'>1</a>\u001b[0m \u001b[39mfrom\u001b[39;00m \u001b[39mgreat_expectations\u001b[39;00m\u001b[39m.\u001b[39;00m\u001b[39mcore\u001b[39;00m\u001b[39m.\u001b[39;00m\u001b[39mexpectation_configuration\u001b[39;00m \u001b[39mimport\u001b[39;00m ExpectationConfiguration\n\u001b[0;32m      <a href='vscode-notebook-cell:/c%3A/Users/RosaLux/Downloads/LIXO/__DESENVOLVE/_ADA/5_modulo/ada-santander-projeto-analytics-engineering/02_data_quality_system_exploration.ipynb#X26sZmlsZQ%3D%3D?line=2'>3</a>\u001b[0m \u001b[39m# 1. Expectativas do Raw do Review\u001b[39;00m\n\u001b[1;32m----> <a href='vscode-notebook-cell:/c%3A/Users/RosaLux/Downloads/LIXO/__DESENVOLVE/_ADA/5_modulo/ada-santander-projeto-analytics-engineering/02_data_quality_system_exploration.ipynb#X26sZmlsZQ%3D%3D?line=3'>4</a>\u001b[0m raw_suite_review \u001b[39m=\u001b[39m context\u001b[39m.\u001b[39;49madd_expectation_suite(expectation_suite_name\u001b[39m=\u001b[39;49m\u001b[39m\"\u001b[39;49m\u001b[39mraw_suite_review\u001b[39;49m\u001b[39m\"\u001b[39;49m, overwrite_existing\u001b[39m=\u001b[39;49m\u001b[39mTrue\u001b[39;49;00m)\n\u001b[0;32m      <a href='vscode-notebook-cell:/c%3A/Users/RosaLux/Downloads/LIXO/__DESENVOLVE/_ADA/5_modulo/ada-santander-projeto-analytics-engineering/02_data_quality_system_exploration.ipynb#X26sZmlsZQ%3D%3D?line=6'>7</a>\u001b[0m reviews_columns \u001b[39m=\u001b[39m [\u001b[39m'\u001b[39m\u001b[39mlisting_id\u001b[39m\u001b[39m'\u001b[39m, \u001b[39m'\u001b[39m\u001b[39mid\u001b[39m\u001b[39m'\u001b[39m, \u001b[39m'\u001b[39m\u001b[39mdate\u001b[39m\u001b[39m'\u001b[39m, \u001b[39m'\u001b[39m\u001b[39mreviewer_id\u001b[39m\u001b[39m'\u001b[39m, \u001b[39m'\u001b[39m\u001b[39mreviewer_name\u001b[39m\u001b[39m'\u001b[39m, \u001b[39m'\u001b[39m\u001b[39mcomments\u001b[39m\u001b[39m'\u001b[39m]\n\u001b[0;32m      <a href='vscode-notebook-cell:/c%3A/Users/RosaLux/Downloads/LIXO/__DESENVOLVE/_ADA/5_modulo/ada-santander-projeto-analytics-engineering/02_data_quality_system_exploration.ipynb#X26sZmlsZQ%3D%3D?line=8'>9</a>\u001b[0m \u001b[39m# NOME DAS COLUNAS\u001b[39;00m\n",
      "\u001b[1;31mTypeError\u001b[0m: AbstractDataContext.add_expectation_suite() got an unexpected keyword argument 'overwrite_existing'"
     ]
    }
   ],
   "source": [
    "from great_expectations.core.expectation_configuration import ExpectationConfiguration\n",
    "\n",
    "# 1. Expectativas do Raw do Review\n",
    "raw_suite_review = context.add_expectation_suite(expectation_suite_name=\"raw_suite_review\", overwrite_existing=True)\n",
    "\n",
    "\n",
    "reviews_columns = ['listing_id', 'id', 'date', 'reviewer_id', 'reviewer_name', 'comments']\n",
    "\n",
    "# NOME DAS COLUNAS\n",
    "kwargs = {\"column_set\": reviews_columns}\n",
    "ec = ExpectationConfiguration(expectation_type=\"expect_table_columns_to_match_set\", kwargs=kwargs)\n",
    "raw_suite_review.add_expectation(expectation_configuration=ec)\n",
    "\n",
    "# NULIDADE\n",
    "test_null_reviews_columns = reviews_columns\n",
    "for c in reviews_columns:\n",
    "    kwargs = {\"column\": c}\n",
    "    ec = ExpectationConfiguration(expectation_type=\"expect_column_values_to_not_be_null\", kwargs=kwargs)\n",
    "    raw_suite_review.add_expectation(expectation_configuration=ec)\n",
    "\n",
    "# UNICIDADE\n",
    "reviews_columns_uniqueness = ['id', 'comments']\n",
    "\n",
    "# TIPAGEM\n",
    "\n",
    "\n",
    "\n",
    "\n",
    "context.save_expectation_suite(expectation_suite=raw_suite_review)"
   ]
  },
  {
   "cell_type": "code",
   "execution_count": null,
   "metadata": {},
   "outputs": [],
   "source": [
    "# Leitura dos dados do Banco de Dados\n",
    "# TODO leitura do banco"
   ]
  },
  {
   "cell_type": "code",
   "execution_count": null,
   "metadata": {},
   "outputs": [],
   "source": [
    "# ======== VALIDAÇÃO ========\n",
    "# Setup datasource (engine)\n",
    "datasource_name = 'fs_raw'\n",
    "datasource = context.sources.add_pandas(datasource_name)\n",
    "\n",
    "asset_name = 'fs_raw_reviews_asset'\n",
    "data_path = r'.\\data\\reviews.csv.gz'\n",
    "asset = datasource.add_csv_asset(asset_name, filepath_or_buffer=data_path)\n",
    "\n",
    "# Build batch request\n",
    "batch_request = asset.build_batch_request()"
   ]
  },
  {
   "cell_type": "code",
   "execution_count": 81,
   "metadata": {},
   "outputs": [
    {
     "data": {
      "application/vnd.jupyter.widget-view+json": {
       "model_id": "65e1dfc288ba49a386e0852f94766d83",
       "version_major": 2,
       "version_minor": 0
      },
      "text/plain": [
       "Calculating Metrics:   0%|          | 0/33 [00:00<?, ?it/s]"
      ]
     },
     "metadata": {},
     "output_type": "display_data"
    }
   ],
   "source": [
    "# Validação dos dados\n",
    "checkpoint = context.add_or_update_checkpoint(\n",
    "    name=\"reviews_fs_raw\",\n",
    "    batch_request=batch_request,\n",
    "    expectation_suite_name=\"raw_suite_review\",\n",
    ")\n",
    "\n",
    "# Validating\n",
    "checkpoint_result_raw_review = checkpoint.run(run_name='raw.review')"
   ]
  },
  {
   "cell_type": "code",
   "execution_count": 73,
   "metadata": {},
   "outputs": [
    {
     "data": {
      "text/plain": [
       "{\n",
       "  \"run_id\": {\n",
       "    \"run_name\": \"raw.review\",\n",
       "    \"run_time\": \"2023-10-25T18:08:58.101014-03:00\"\n",
       "  },\n",
       "  \"run_results\": {\n",
       "    \"ValidationResultIdentifier::raw_suite_review/raw.review/20231025T210858.101014Z/reviews_fs_raw-reviews_fs_raw_asset\": {\n",
       "      \"validation_result\": {\n",
       "        \"success\": true,\n",
       "        \"results\": [\n",
       "          {\n",
       "            \"success\": true,\n",
       "            \"expectation_config\": {\n",
       "              \"expectation_type\": \"expect_table_columns_to_match_set\",\n",
       "              \"kwargs\": {\n",
       "                \"column_set\": [\n",
       "                  \"listing_id\",\n",
       "                  \"id\",\n",
       "                  \"date\",\n",
       "                  \"reviewer_id\",\n",
       "                  \"reviewer_name\",\n",
       "                  \"comments\"\n",
       "                ],\n",
       "                \"batch_id\": \"reviews_fs_raw-reviews_fs_raw_asset\"\n",
       "              },\n",
       "              \"meta\": {\n",
       "                \"notes\": {\n",
       "                  \"content\": \"Verifica\\u00e7\\u00e3o dos nomes das coluna de Review.\",\n",
       "                  \"format\": \"markdown\"\n",
       "                }\n",
       "              }\n",
       "            },\n",
       "            \"result\": {\n",
       "              \"observed_value\": [\n",
       "                \"listing_id\",\n",
       "                \"id\",\n",
       "                \"date\",\n",
       "                \"reviewer_id\",\n",
       "                \"reviewer_name\",\n",
       "                \"comments\"\n",
       "              ]\n",
       "            },\n",
       "            \"meta\": {},\n",
       "            \"exception_info\": {\n",
       "              \"raised_exception\": false,\n",
       "              \"exception_traceback\": null,\n",
       "              \"exception_message\": null\n",
       "            }\n",
       "          }\n",
       "        ],\n",
       "        \"evaluation_parameters\": {},\n",
       "        \"statistics\": {\n",
       "          \"evaluated_expectations\": 1,\n",
       "          \"successful_expectations\": 1,\n",
       "          \"unsuccessful_expectations\": 0,\n",
       "          \"success_percent\": 100.0\n",
       "        },\n",
       "        \"meta\": {\n",
       "          \"great_expectations_version\": \"0.17.23\",\n",
       "          \"expectation_suite_name\": \"raw_suite_review\",\n",
       "          \"run_id\": {\n",
       "            \"run_name\": \"raw.review\",\n",
       "            \"run_time\": \"2023-10-25T18:08:58.101014-03:00\"\n",
       "          },\n",
       "          \"batch_spec\": {\n",
       "            \"reader_method\": \"read_csv\",\n",
       "            \"reader_options\": {\n",
       "              \"filepath_or_buffer\": \"data\\\\reviews.csv.gz\"\n",
       "            }\n",
       "          },\n",
       "          \"batch_markers\": {\n",
       "            \"ge_load_time\": \"20231025T210858.209361Z\",\n",
       "            \"pandas_data_fingerprint\": \"c3ced9b22e4454f0bd45be3a73204463\"\n",
       "          },\n",
       "          \"active_batch_definition\": {\n",
       "            \"datasource_name\": \"reviews_fs_raw\",\n",
       "            \"data_connector_name\": \"fluent\",\n",
       "            \"data_asset_name\": \"reviews_fs_raw_asset\",\n",
       "            \"batch_identifiers\": {}\n",
       "          },\n",
       "          \"validation_time\": \"20231025T210909.761158Z\",\n",
       "          \"checkpoint_name\": \"reviews_fs_raw\",\n",
       "          \"validation_id\": null,\n",
       "          \"checkpoint_id\": null\n",
       "        }\n",
       "      },\n",
       "      \"actions_results\": {\n",
       "        \"store_validation_result\": {\n",
       "          \"class\": \"StoreValidationResultAction\"\n",
       "        },\n",
       "        \"store_evaluation_params\": {\n",
       "          \"class\": \"StoreEvaluationParametersAction\"\n",
       "        },\n",
       "        \"update_data_docs\": {\n",
       "          \"local_site\": \"file://c:\\\\Users\\\\RosaLux\\\\Downloads\\\\LIXO\\\\__DESENVOLVE\\\\_ADA\\\\5_modulo\\\\ada-santander-projeto-analytics-engineering\\\\gx\\\\uncommitted/data_docs/local_site/validations%5Craw_suite_review%5Craw.review%5C20231025T210858.101014Z%5Creviews_fs_raw-reviews_fs_raw_asset.html\",\n",
       "          \"class\": \"UpdateDataDocsAction\"\n",
       "        }\n",
       "      }\n",
       "    }\n",
       "  },\n",
       "  \"checkpoint_config\": {\n",
       "    \"expectation_suite_ge_cloud_id\": null,\n",
       "    \"site_names\": null,\n",
       "    \"config_version\": 1.0,\n",
       "    \"template_name\": null,\n",
       "    \"notify_with\": null,\n",
       "    \"validations\": [],\n",
       "    \"evaluation_parameters\": {},\n",
       "    \"batch_request\": {\n",
       "      \"datasource_name\": \"reviews_fs_raw\",\n",
       "      \"data_asset_name\": \"reviews_fs_raw_asset\"\n",
       "    },\n",
       "    \"expectation_suite_name\": \"raw_suite_review\",\n",
       "    \"name\": \"reviews_fs_raw\",\n",
       "    \"runtime_configuration\": {},\n",
       "    \"default_validation_id\": null,\n",
       "    \"action_list\": [\n",
       "      {\n",
       "        \"name\": \"store_validation_result\",\n",
       "        \"action\": {\n",
       "          \"class_name\": \"StoreValidationResultAction\"\n",
       "        }\n",
       "      },\n",
       "      {\n",
       "        \"name\": \"store_evaluation_params\",\n",
       "        \"action\": {\n",
       "          \"class_name\": \"StoreEvaluationParametersAction\"\n",
       "        }\n",
       "      },\n",
       "      {\n",
       "        \"name\": \"update_data_docs\",\n",
       "        \"action\": {\n",
       "          \"class_name\": \"UpdateDataDocsAction\"\n",
       "        }\n",
       "      }\n",
       "    ],\n",
       "    \"module_name\": \"great_expectations.checkpoint\",\n",
       "    \"run_name_template\": null,\n",
       "    \"ge_cloud_id\": null,\n",
       "    \"class_name\": \"Checkpoint\",\n",
       "    \"notify_on\": null,\n",
       "    \"profilers\": [],\n",
       "    \"slack_webhook\": null\n",
       "  },\n",
       "  \"success\": true\n",
       "}"
      ]
     },
     "execution_count": 73,
     "metadata": {},
     "output_type": "execute_result"
    }
   ],
   "source": [
    "checkpoint_result_raw_review"
   ]
  },
  {
   "cell_type": "markdown",
   "metadata": {},
   "source": [
    "## **MONITORAMENTO SILVER**"
   ]
  }
 ],
 "metadata": {
  "kernelspec": {
   "display_name": ".venv",
   "language": "python",
   "name": "python3"
  },
  "language_info": {
   "codemirror_mode": {
    "name": "ipython",
    "version": 3
   },
   "file_extension": ".py",
   "mimetype": "text/x-python",
   "name": "python",
   "nbconvert_exporter": "python",
   "pygments_lexer": "ipython3",
   "version": "3.10.7"
  }
 },
 "nbformat": 4,
 "nbformat_minor": 2
}
