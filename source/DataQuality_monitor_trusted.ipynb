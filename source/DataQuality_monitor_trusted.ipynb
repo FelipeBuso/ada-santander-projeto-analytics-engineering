{
 "cells": [
  {
   "cell_type": "code",
   "execution_count": 1,
   "metadata": {},
   "outputs": [
    {
     "data": {
      "application/vnd.jupyter.widget-view+json": {
       "model_id": "5fa4a43db95d4615a39adc5265bea7c0",
       "version_major": 2,
       "version_minor": 0
      },
      "text/plain": [
       "Calculating Metrics:   0%|          | 0/53 [00:00<?, ?it/s]"
      ]
     },
     "metadata": {},
     "output_type": "display_data"
    }
   ],
   "source": [
    "import great_expectations as gx\n",
    "from utils.utils_data_quality import suite_monitoring_execution\n",
    "\n",
    "# TRUSTED\n",
    "context = gx.data_context.FileDataContext.create(project_root_dir='.')\n",
    "\n",
    "checkpoint_result_trusted_listings_targeted = suite_monitoring_execution(\n",
    "    layer_name='trusted', asset_name='trusted_listings', suite_name_str='listings_targeted')"
   ]
  }
 ],
 "metadata": {
  "kernelspec": {
   "display_name": ".venv",
   "language": "python",
   "name": "python3"
  },
  "language_info": {
   "codemirror_mode": {
    "name": "ipython",
    "version": 3
   },
   "file_extension": ".py",
   "mimetype": "text/x-python",
   "name": "python",
   "nbconvert_exporter": "python",
   "pygments_lexer": "ipython3",
   "version": "3.10.7"
  }
 },
 "nbformat": 4,
 "nbformat_minor": 2
}
