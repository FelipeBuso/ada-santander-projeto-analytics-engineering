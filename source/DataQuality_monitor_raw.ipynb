{
 "cells": [
  {
   "cell_type": "code",
   "execution_count": 1,
   "metadata": {},
   "outputs": [
    {
     "data": {
      "application/vnd.jupyter.widget-view+json": {
       "model_id": "0226a650d52d406b89d0f3034bf24869",
       "version_major": 2,
       "version_minor": 0
      },
      "text/plain": [
       "Calculating Metrics:   0%|          | 0/34 [00:00<?, ?it/s]"
      ]
     },
     "metadata": {},
     "output_type": "display_data"
    },
    {
     "data": {
      "application/vnd.jupyter.widget-view+json": {
       "model_id": "c548290757bb40199baa033270310829",
       "version_major": 2,
       "version_minor": 0
      },
      "text/plain": [
       "Calculating Metrics:   0%|          | 0/107 [00:00<?, ?it/s]"
      ]
     },
     "metadata": {},
     "output_type": "display_data"
    },
    {
     "data": {
      "application/vnd.jupyter.widget-view+json": {
       "model_id": "ec234fc93c904f3b90a2bb5b5838d49a",
       "version_major": 2,
       "version_minor": 0
      },
      "text/plain": [
       "Calculating Metrics:   0%|          | 0/886 [00:00<?, ?it/s]"
      ]
     },
     "metadata": {},
     "output_type": "display_data"
    },
    {
     "data": {
      "application/vnd.jupyter.widget-view+json": {
       "model_id": "f5e7b80e7b1a42fa834e0d987c246ece",
       "version_major": 2,
       "version_minor": 0
      },
      "text/plain": [
       "Calculating Metrics:   0%|          | 0/53 [00:00<?, ?it/s]"
      ]
     },
     "metadata": {},
     "output_type": "display_data"
    }
   ],
   "source": [
    "import great_expectations as gx\n",
    "import shutil\n",
    "import os\n",
    "from utils.utils_data_quality import suite_monitoring_execution\n",
    "\n",
    "\n",
    "# Validação das Bases do RAW em sua totalidade\n",
    "\n",
    "# Suites Enviroment\n",
    "context = gx.data_context.FileDataContext.create(project_root_dir='.')\n",
    "src_suites = os.path.join('.', 'utils', 'data-quality-profilers')\n",
    "dst_suites = os.path.join('.', 'gx', 'expectations')\n",
    "shutil.copytree(src_suites, dst_suites, dirs_exist_ok=True)\n",
    "\n",
    "\n",
    "checkpoint_result_raw_reviews = suite_monitoring_execution(asset_name='reviews')\n",
    "checkpoint_result_raw_calendar = suite_monitoring_execution(asset_name='calendar')\n",
    "checkpoint_result_raw_listings = suite_monitoring_execution(asset_name='listings')\n",
    "\n",
    "checkpoint_result_raw_listings_targeted = suite_monitoring_execution(asset_name='listings', suite_name_str='listings_targeted')"
   ]
  }
 ],
 "metadata": {
  "kernelspec": {
   "display_name": ".venv",
   "language": "python",
   "name": "python3"
  },
  "language_info": {
   "codemirror_mode": {
    "name": "ipython",
    "version": 3
   },
   "file_extension": ".py",
   "mimetype": "text/x-python",
   "name": "python",
   "nbconvert_exporter": "python",
   "pygments_lexer": "ipython3",
   "version": "3.10.7"
  }
 },
 "nbformat": 4,
 "nbformat_minor": 2
}
