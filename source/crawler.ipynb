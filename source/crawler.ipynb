{
 "cells": [
  {
   "cell_type": "code",
   "execution_count": 3,
   "metadata": {},
   "outputs": [
    {
     "name": "stdout",
     "output_type": "stream",
     "text": [
      "O arquivo foi baixado com sucesso e salvo em ../data/listings.csv.gz\n",
      "O arquivo foi baixado com sucesso e salvo em ../data/calendar.csv.gz\n",
      "O arquivo foi baixado com sucesso e salvo em ../data/reviews.csv.gz\n"
     ]
    }
   ],
   "source": [
    "import os\n",
    "from utils.web_crawler import crawler\n",
    "\n",
    "\n",
    "# Verifica se existe a pasta ./data\n",
    "data_path = os.path.join('..',  'data')\n",
    "if not os.path.exists(data_path):\n",
    "    print(f'Nova pasta {data_path} criada')\n",
    "    os.mkdir(data_path)\n",
    "\n",
    "# Verifica se existe os arquivos na pasta\n",
    "baixar_dados = True\n",
    "for file in os.listdir(data_path):\n",
    "    if file in ['calendar.csv.gz', 'listings.csv.gz', 'reviews.csv.gz']:\n",
    "        baixar_dados = False\n",
    "        print('Não será realizado o download dos arquivos.')\n",
    "        break\n",
    "\n",
    "if baixar_dados:\n",
    "    new_crawler = crawler()\n",
    "    html_content = new_crawler.main_html_content\n",
    "\n",
    "    # Extrai os URLs da lista\n",
    "    lista_de_links = new_crawler._scrap_links_rio_de_janeiro(html_content=html_content)\n",
    "\n",
    "    # Realiza o download dos arquivos\n",
    "    new_crawler.download_data_from_rio_de_janeiro(url_list=lista_de_links, data_folder=data_path)\n",
    "else:\n",
    "    print('Todos os arquivos já estão salvos!')\n"
   ]
  },
  {
   "cell_type": "code",
   "execution_count": null,
   "metadata": {},
   "outputs": [],
   "source": []
  }
 ],
 "metadata": {
  "kernelspec": {
   "display_name": ".venv",
   "language": "python",
   "name": "python3"
  },
  "language_info": {
   "codemirror_mode": {
    "name": "ipython",
    "version": 3
   },
   "file_extension": ".py",
   "mimetype": "text/x-python",
   "name": "python",
   "nbconvert_exporter": "python",
   "pygments_lexer": "ipython3",
   "version": "3.8.10"
  }
 },
 "nbformat": 4,
 "nbformat_minor": 2
}
