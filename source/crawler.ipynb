{
 "cells": [
  {
   "cell_type": "code",
   "execution_count": 2,
   "metadata": {},
   "outputs": [
    {
     "ename": "ModuleNotFoundError",
     "evalue": "No module named 'bs4'",
     "output_type": "error",
     "traceback": [
      "\u001b[0;31m---------------------------------------------------------------------------\u001b[0m",
      "\u001b[0;31mModuleNotFoundError\u001b[0m                       Traceback (most recent call last)",
      "\u001b[1;32m/home/felipe/adatech/data-engineer/analytics_engineering/projeto/source/crawler.ipynb Cell 1\u001b[0m line \u001b[0;36m2\n\u001b[1;32m      <a href='vscode-notebook-cell:/home/felipe/adatech/data-engineer/analytics_engineering/projeto/source/crawler.ipynb#W0sZmlsZQ%3D%3D?line=0'>1</a>\u001b[0m \u001b[39mimport\u001b[39;00m \u001b[39mos\u001b[39;00m\n\u001b[0;32m----> <a href='vscode-notebook-cell:/home/felipe/adatech/data-engineer/analytics_engineering/projeto/source/crawler.ipynb#W0sZmlsZQ%3D%3D?line=1'>2</a>\u001b[0m \u001b[39mfrom\u001b[39;00m \u001b[39mutils\u001b[39;00m\u001b[39m.\u001b[39;00m\u001b[39mweb_crawler\u001b[39;00m \u001b[39mimport\u001b[39;00m crawler\n\u001b[1;32m      <a href='vscode-notebook-cell:/home/felipe/adatech/data-engineer/analytics_engineering/projeto/source/crawler.ipynb#W0sZmlsZQ%3D%3D?line=4'>5</a>\u001b[0m \u001b[39m# Verifica se existe a pasta ./data\u001b[39;00m\n\u001b[1;32m      <a href='vscode-notebook-cell:/home/felipe/adatech/data-engineer/analytics_engineering/projeto/source/crawler.ipynb#W0sZmlsZQ%3D%3D?line=5'>6</a>\u001b[0m data_path \u001b[39m=\u001b[39m os\u001b[39m.\u001b[39mpath\u001b[39m.\u001b[39mjoin(\u001b[39m'\u001b[39m\u001b[39m.\u001b[39m\u001b[39m'\u001b[39m, \u001b[39m'\u001b[39m\u001b[39m.\u001b[39m\u001b[39m'\u001b[39m, \u001b[39m'\u001b[39m\u001b[39mdata\u001b[39m\u001b[39m'\u001b[39m)\n",
      "File \u001b[0;32m~/adatech/data-engineer/analytics_engineering/projeto/source/utils/web_crawler.py:1\u001b[0m\n\u001b[0;32m----> 1\u001b[0m \u001b[39mfrom\u001b[39;00m \u001b[39mbs4\u001b[39;00m \u001b[39mimport\u001b[39;00m BeautifulSoup\n\u001b[1;32m      2\u001b[0m \u001b[39mimport\u001b[39;00m \u001b[39mrequests\u001b[39;00m\n\u001b[1;32m      3\u001b[0m \u001b[39mimport\u001b[39;00m \u001b[39mos\u001b[39;00m\n",
      "\u001b[0;31mModuleNotFoundError\u001b[0m: No module named 'bs4'"
     ]
    }
   ],
   "source": [
    "import os\n",
    "from utils.web_crawler import crawler\n",
    "\n",
    "\n",
    "# Verifica se existe a pasta ./data\n",
    "data_path = os.path.join('..',  'data')\n",
    "if not os.path.exists(data_path):\n",
    "    print(f'Nova pasta {data_path} criada')\n",
    "    os.mkdir(data_path)\n",
    "\n",
    "# Verifica se existe os arquivos na pasta\n",
    "baixar_dados = True\n",
    "for file in os.listdir(data_path):\n",
    "    if file in ['calendar.csv.gz', 'listings.csv.gz', 'reviews.csv.gz']:\n",
    "        baixar_dados = False\n",
    "        print('Não será realizado o download dos arquivos.')\n",
    "        break\n",
    "\n",
    "if baixar_dados:\n",
    "    new_crawler = crawler()\n",
    "    html_content = new_crawler.main_html_content\n",
    "\n",
    "    # Extrai os URLs da lista\n",
    "    lista_de_links = new_crawler._scrap_links_rio_de_janeiro(html_content=html_content)\n",
    "\n",
    "    # Realiza o download dos arquivos\n",
    "    new_crawler.download_data_from_rio_de_janeiro(url_list=lista_de_links, data_folder=data_path)\n",
    "else:\n",
    "    print('Todos os arquivos já estão salvos!')\n"
   ]
  },
  {
   "cell_type": "code",
   "execution_count": null,
   "metadata": {},
   "outputs": [],
   "source": []
  }
 ],
 "metadata": {
  "kernelspec": {
   "display_name": ".venv",
   "language": "python",
   "name": "python3"
  },
  "language_info": {
   "codemirror_mode": {
    "name": "ipython",
    "version": 3
   },
   "file_extension": ".py",
   "mimetype": "text/x-python",
   "name": "python",
   "nbconvert_exporter": "python",
   "pygments_lexer": "ipython3",
   "version": "3.8.10"
  }
 },
 "nbformat": 4,
 "nbformat_minor": 2
}
