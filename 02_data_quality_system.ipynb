{
 "cells": [
  {
   "cell_type": "markdown",
   "metadata": {},
   "source": [
    "# **DATA PIPELINE**"
   ]
  },
  {
   "cell_type": "code",
   "execution_count": 2,
   "metadata": {},
   "outputs": [],
   "source": [
    "import great_expectations as gx\n",
    "import pandas as pd"
   ]
  },
  {
   "cell_type": "code",
   "execution_count": null,
   "metadata": {},
   "outputs": [],
   "source": [
    "# Validação do nome das colunas\n",
    "def validacao_nome_das_colunas(dataset_gx, padrao_dos_nomes):\n",
    "    # Teste de precisão do nome das colunas\n",
    "    expect_result = dataset_gx.expect_table_columns_to_match_set(padrao_dos_nomes)\n",
    "\n",
    "    if expect_result['success'] != True:\n",
    "        print('unexpected:', expect_result['result']['details']['mismatched']['unexpected'])\n",
    "        print('missing:', expect_result['result']['details']['mismatched']['missing'])\n",
    "\n",
    "        # TODO TRATAMENTO\n",
    "    else:\n",
    "        print('Nomes das colunas consistentes')\n",
    "\n",
    "\n",
    "# def "
   ]
  },
  {
   "cell_type": "code",
   "execution_count": 67,
   "metadata": {},
   "outputs": [
    {
     "name": "stdout",
     "output_type": "stream",
     "text": [
      "Nomes das colunas consistentes\n"
     ]
    }
   ],
   "source": [
    "# Padrão de nomes das colunas de Reviews\n",
    "df = gx.read_csv(r'.\\data\\reviews.csv.gz')\n",
    "\n",
    "reviews_columns_name_set = ['listing_id', 'id', 'date', 'reviewer_id', 'reviewer_name', 'comments']\n",
    "validacao_nome_das_colunas(dataset_gx=df, padrao_dos_nomes=reviews_columns_name_set)\n"
   ]
  },
  {
   "cell_type": "code",
   "execution_count": 40,
   "metadata": {},
   "outputs": [
    {
     "name": "stdout",
     "output_type": "stream",
     "text": [
      "Nomes das colunas consistentes\n"
     ]
    }
   ],
   "source": [
    "# Padrão de nomes das colunas de Calendar\n",
    "df = gx.read_csv(r'.\\data\\calendar.csv.gz')\n",
    "\n",
    "calendar_columns_name_set = ['listing_id', 'date', 'available', 'price', 'adjusted_price', 'minimum_nights', 'maximum_nights']\n",
    "validacao_nome_das_colunas(dataset_gx=df, padrao_dos_nomes=calendar_columns_name_set)"
   ]
  },
  {
   "cell_type": "code",
   "execution_count": 43,
   "metadata": {},
   "outputs": [
    {
     "name": "stdout",
     "output_type": "stream",
     "text": [
      "Nomes das colunas consistentes\n"
     ]
    }
   ],
   "source": [
    "# Padrão de nomes das colunas de Listings\n",
    "df = gx.read_csv(r'.\\data\\listings.csv.gz')\n",
    "\n",
    "calendar_columns_name_set = ['id', 'listing_url', 'scrape_id', 'last_scraped', 'source', 'name',\n",
    "       'description', 'neighborhood_overview', 'picture_url', 'host_id',\n",
    "       'host_url', 'host_name', 'host_since', 'host_location', 'host_about',\n",
    "       'host_response_time', 'host_response_rate', 'host_acceptance_rate',\n",
    "       'host_is_superhost', 'host_thumbnail_url', 'host_picture_url',\n",
    "       'host_neighbourhood', 'host_listings_count',\n",
    "       'host_total_listings_count', 'host_verifications',\n",
    "       'host_has_profile_pic', 'host_identity_verified', 'neighbourhood',\n",
    "       'neighbourhood_cleansed', 'neighbourhood_group_cleansed', 'latitude',\n",
    "       'longitude', 'property_type', 'room_type', 'accommodates', 'bathrooms',\n",
    "       'bathrooms_text', 'bedrooms', 'beds', 'amenities', 'price',\n",
    "       'minimum_nights', 'maximum_nights', 'minimum_minimum_nights',\n",
    "       'maximum_minimum_nights', 'minimum_maximum_nights',\n",
    "       'maximum_maximum_nights', 'minimum_nights_avg_ntm',\n",
    "       'maximum_nights_avg_ntm', 'calendar_updated', 'has_availability',\n",
    "       'availability_30', 'availability_60', 'availability_90',\n",
    "       'availability_365', 'calendar_last_scraped', 'number_of_reviews',\n",
    "       'number_of_reviews_ltm', 'number_of_reviews_l30d', 'first_review',\n",
    "       'last_review', 'review_scores_rating', 'review_scores_accuracy',\n",
    "       'review_scores_cleanliness', 'review_scores_checkin',\n",
    "       'review_scores_communication', 'review_scores_location',\n",
    "       'review_scores_value', 'license', 'instant_bookable',\n",
    "       'calculated_host_listings_count',\n",
    "       'calculated_host_listings_count_entire_homes',\n",
    "       'calculated_host_listings_count_private_rooms',\n",
    "       'calculated_host_listings_count_shared_rooms', 'reviews_per_month']\n",
    "validacao_nome_das_colunas(dataset_gx=df, padrao_dos_nomes=calendar_columns_name_set)"
   ]
  },
  {
   "cell_type": "code",
   "execution_count": 68,
   "metadata": {},
   "outputs": [
    {
     "data": {
      "text/html": [
       "<div>\n",
       "<style scoped>\n",
       "    .dataframe tbody tr th:only-of-type {\n",
       "        vertical-align: middle;\n",
       "    }\n",
       "\n",
       "    .dataframe tbody tr th {\n",
       "        vertical-align: top;\n",
       "    }\n",
       "\n",
       "    .dataframe thead th {\n",
       "        text-align: right;\n",
       "    }\n",
       "</style>\n",
       "<table border=\"1\" class=\"dataframe\">\n",
       "  <thead>\n",
       "    <tr style=\"text-align: right;\">\n",
       "      <th></th>\n",
       "      <th>listing_id</th>\n",
       "      <th>id</th>\n",
       "      <th>date</th>\n",
       "      <th>reviewer_id</th>\n",
       "      <th>reviewer_name</th>\n",
       "      <th>comments</th>\n",
       "    </tr>\n",
       "  </thead>\n",
       "  <tbody>\n",
       "    <tr>\n",
       "      <th>0</th>\n",
       "      <td>231497</td>\n",
       "      <td>726625</td>\n",
       "      <td>2011-11-17</td>\n",
       "      <td>1356783</td>\n",
       "      <td>Jenny</td>\n",
       "      <td>Es un apartastudio muy bien ubicado. Tiene lo ...</td>\n",
       "    </tr>\n",
       "    <tr>\n",
       "      <th>1</th>\n",
       "      <td>17878</td>\n",
       "      <td>64852</td>\n",
       "      <td>2010-07-15</td>\n",
       "      <td>135370</td>\n",
       "      <td>Tia</td>\n",
       "      <td>This apartment is in a perfect location -- two...</td>\n",
       "    </tr>\n",
       "    <tr>\n",
       "      <th>2</th>\n",
       "      <td>17878</td>\n",
       "      <td>76744</td>\n",
       "      <td>2010-08-11</td>\n",
       "      <td>10206</td>\n",
       "      <td>Mimi</td>\n",
       "      <td>we had a really great experience staying in Ma...</td>\n",
       "    </tr>\n",
       "    <tr>\n",
       "      <th>3</th>\n",
       "      <td>17878</td>\n",
       "      <td>91074</td>\n",
       "      <td>2010-09-06</td>\n",
       "      <td>80253</td>\n",
       "      <td>Jan</td>\n",
       "      <td>Staying in Max appartment is like living in a ...</td>\n",
       "    </tr>\n",
       "    <tr>\n",
       "      <th>4</th>\n",
       "      <td>17878</td>\n",
       "      <td>137528</td>\n",
       "      <td>2010-11-12</td>\n",
       "      <td>230449</td>\n",
       "      <td>Orene</td>\n",
       "      <td>In general very good and reasonable price.\\r&lt;b...</td>\n",
       "    </tr>\n",
       "  </tbody>\n",
       "</table>\n",
       "</div>"
      ],
      "text/plain": [
       "   listing_id      id        date  reviewer_id reviewer_name  \\\n",
       "0      231497  726625  2011-11-17      1356783         Jenny   \n",
       "1       17878   64852  2010-07-15       135370           Tia   \n",
       "2       17878   76744  2010-08-11        10206          Mimi   \n",
       "3       17878   91074  2010-09-06        80253           Jan   \n",
       "4       17878  137528  2010-11-12       230449         Orene   \n",
       "\n",
       "                                            comments  \n",
       "0  Es un apartastudio muy bien ubicado. Tiene lo ...  \n",
       "1  This apartment is in a perfect location -- two...  \n",
       "2  we had a really great experience staying in Ma...  \n",
       "3  Staying in Max appartment is like living in a ...  \n",
       "4  In general very good and reasonable price.\\r<b...  "
      ]
     },
     "execution_count": 68,
     "metadata": {},
     "output_type": "execute_result"
    }
   ],
   "source": [
    "df.head()"
   ]
  },
  {
   "cell_type": "code",
   "execution_count": 69,
   "metadata": {},
   "outputs": [
    {
     "data": {
      "text/plain": [
       "listing_id        int64\n",
       "id                int64\n",
       "date             object\n",
       "reviewer_id       int64\n",
       "reviewer_name    object\n",
       "comments         object\n",
       "dtype: object"
      ]
     },
     "execution_count": 69,
     "metadata": {},
     "output_type": "execute_result"
    }
   ],
   "source": [
    "df.dtypes"
   ]
  },
  {
   "cell_type": "code",
   "execution_count": 95,
   "metadata": {},
   "outputs": [
    {
     "name": "stdout",
     "output_type": "stream",
     "text": [
      "<class 'great_expectations.dataset.pandas_dataset.PandasDataset'>\n",
      "RangeIndex: 637307 entries, 0 to 637306\n",
      "Data columns (total 6 columns):\n",
      " #   Column         Non-Null Count   Dtype \n",
      "---  ------         --------------   ----- \n",
      " 0   listing_id     637307 non-null  int64 \n",
      " 1   id             637307 non-null  int64 \n",
      " 2   date           637307 non-null  object\n",
      " 3   reviewer_id    637307 non-null  int64 \n",
      " 4   reviewer_name  637307 non-null  object\n",
      " 5   comments       637307 non-null  object\n",
      "dtypes: int64(3), object(3)\n",
      "memory usage: 29.2+ MB\n"
     ]
    }
   ],
   "source": [
    "df.info()"
   ]
  },
  {
   "cell_type": "markdown",
   "metadata": {},
   "source": [
    "**Teste de Completude**"
   ]
  },
  {
   "cell_type": "code",
   "execution_count": 91,
   "metadata": {},
   "outputs": [
    {
     "name": "stdout",
     "output_type": "stream",
     "text": [
      " Coluna comments - qtde de nan: 19 (0.30%)\n"
     ]
    }
   ],
   "source": [
    "results = []\n",
    "# Teste de Completude\n",
    "for c in df.columns:\n",
    "    results.append(df.expect_column_values_to_not_be_null(column=c, meta={'column': c}))\n",
    "\n",
    "\n",
    "# Tratamento de completude\n",
    "falhas = [r for r in results if r['success']==False]\n",
    "if len(falhas) >= 1:\n",
    "    for result in falhas:\n",
    "        # Extração de dados dos resultado\n",
    "        column = result['meta']['column']\n",
    "        unexpected_count = result['result']['unexpected_count']\n",
    "        unexpected_percent = result['result']['unexpected_percent_total']\n",
    "\n",
    "        # logger\n",
    "        print(f\" Coluna {column} - qtde de nan: {unexpected_count} ({unexpected_percent:.2%})\")\n",
    "        \n",
    "        # Preenchimento de Na\n",
    "        df[column].fillna('No description provided', inplace=True)\n",
    "else:\n",
    "    print('Qualidade validada')"
   ]
  },
  {
   "cell_type": "code",
   "execution_count": 93,
   "metadata": {},
   "outputs": [
    {
     "name": "stdout",
     "output_type": "stream",
     "text": [
      "Qualidade validada\n"
     ]
    }
   ],
   "source": [
    "results = []\n",
    "# Teste de Completude\n",
    "for c in df.columns:\n",
    "    results.append(df.expect_column_values_to_not_be_null(column=c, meta={'column': c}))\n",
    "\n",
    "\n",
    "# Tratamento de completude\n",
    "falhas = [r for r in results if r['success']==False]\n",
    "if len(falhas) >= 1:\n",
    "    for result in falhas:\n",
    "        # Extração de dados dos resultado\n",
    "        column = result['meta']['column']\n",
    "        unexpected_count = result['result']['unexpected_count']\n",
    "        unexpected_percent = result['result']['unexpected_percent_total']\n",
    "\n",
    "        # logger\n",
    "        print(f\" Coluna {column} - qtde de nan: {unexpected_count} ({unexpected_percent:.2%})\")\n",
    "        \n",
    "        # Preenchimento de Na\n",
    "        df[column].fillna('No description provided', inplace=True)\n",
    "else:\n",
    "    print('Qualidade validada')"
   ]
  },
  {
   "cell_type": "markdown",
   "metadata": {},
   "source": [
    "**String de Descrição**"
   ]
  },
  {
   "cell_type": "code",
   "execution_count": 96,
   "metadata": {},
   "outputs": [
    {
     "name": "stdout",
     "output_type": "stream",
     "text": [
      "Help on function expect_column_values_to_not_match_regex_list in module great_expectations.dataset.pandas_dataset:\n",
      "\n",
      "expect_column_values_to_not_match_regex_list(self, column, regex_list, mostly=None, result_format=None, row_condition=None, condition_parser=None, include_config=True, catch_exceptions=None, meta=None)\n",
      "    Expect the column entries to be strings that do not match any of a list of regular expressions. Matches can\n",
      "            be anywhere in the string.\n",
      "    \n",
      "            expect_column_values_to_not_match_regex_list is a         :func:`column_map_expectation <great_expectations.dataset.dataset.MetaDataset.column_map_expectation>`.\n",
      "    \n",
      "            Args:\n",
      "                column (str):                 The column name.\n",
      "                regex_list (list):                 The list of regular expressions which the column entries should not match\n",
      "    \n",
      "            Keyword Args:\n",
      "                mostly (None or a float between 0 and 1):                 Return `\"success\": True` if at least mostly fraction of values match the expectation.                 For more detail, see :ref:`mostly`.\n",
      "    \n",
      "            Other Parameters:\n",
      "                result_format (str or None):                 Which output mode to use: `BOOLEAN_ONLY`, `BASIC`, `COMPLETE`, or `SUMMARY`.                 For more detail, see :ref:`result_format <result_format>`.\n",
      "                include_config (boolean):                 If True, then include the expectation config as part of the result object.                 For more detail, see :ref:`include_config`.\n",
      "                catch_exceptions (boolean or None):                 If True, then catch exceptions and include them as part of the result object.                 For more detail, see :ref:`catch_exceptions`.\n",
      "                meta (dict or None):                 A JSON-serializable dictionary (nesting allowed) that will be included in the output without                 modification. For more detail, see :ref:`meta`.\n",
      "    \n",
      "            Returns:\n",
      "                An ExpectationSuiteValidationResult\n",
      "    \n",
      "                Exact fields vary depending on the values passed to :ref:`result_format <result_format>` and\n",
      "                :ref:`include_config`, :ref:`catch_exceptions`, and :ref:`meta`.\n",
      "    \n",
      "            See Also:\n",
      "                :func:`expect_column_values_to_match_regex_list             <great_expectations.dataset.dataset.Dataset.expect_column_values_to_match_regex_list>`\n",
      "\n"
     ]
    }
   ],
   "source": [
    "help(df.expect_column_values_to_not_match_regex_list)"
   ]
  },
  {
   "cell_type": "code",
   "execution_count": null,
   "metadata": {},
   "outputs": [],
   "source": [
    "df.expect_column_values_to_not_match_regex_list('comments', ['^(<.*>|\\r|\\\\.|--)$', ''])"
   ]
  },
  {
   "cell_type": "code",
   "execution_count": null,
   "metadata": {},
   "outputs": [],
   "source": [
    "results = []\n",
    "# Teste de Completude\n",
    "for c in df.columns:\n",
    "    results.append(df.expect_ )(column=c, meta={'column': c}))\n",
    "\n",
    "[r for r in results if r['success']==False]\n",
    "# Tratamento de completude\n",
    "# falhas = [r for r in results if r['success']==False]\n",
    "# if len(falhas) >= 1:\n",
    "#     for result in falhas:\n",
    "#         # Extração de dados dos resultado\n",
    "#         column = result['meta']['column']\n",
    "#         unexpected_count = result['result']['unexpected_count']\n",
    "#         unexpected_percent = result['result']['unexpected_percent_total']\n",
    "\n",
    "#         # logger\n",
    "#         print(f\" Coluna {column} - qtde de nan: {unexpected_count} ({unexpected_percent:.2%})\")\n",
    "        \n",
    "#         # Preenchimento de Na\n",
    "#         df[column].fillna('No description provided', inplace=True)\n",
    "# else:\n",
    "#     print('Qualidade validada')"
   ]
  },
  {
   "cell_type": "markdown",
   "metadata": {},
   "source": [
    "# **DEPLOY**"
   ]
  },
  {
   "cell_type": "code",
   "execution_count": 45,
   "metadata": {},
   "outputs": [],
   "source": [
    "# Data Context\n",
    "data_context_path = '.'\n",
    "context = gx.data_context.FileDataContext.create(project_root_dir=data_context_path)"
   ]
  },
  {
   "cell_type": "markdown",
   "metadata": {},
   "source": [
    "## **MONITORAMENTO RAW**"
   ]
  },
  {
   "cell_type": "code",
   "execution_count": null,
   "metadata": {},
   "outputs": [],
   "source": [
    "# Expectativas do Raw do Review\n",
    "raw_suite_review = context.add_expectation_suite(expectation_suite_name=\"raw_suite_review\", overwrite_existing=True)"
   ]
  },
  {
   "cell_type": "code",
   "execution_count": 80,
   "metadata": {},
   "outputs": [
    {
     "data": {
      "text/plain": [
       "'c:\\\\Users\\\\RosaLux\\\\Downloads\\\\LIXO\\\\__DESENVOLVE\\\\_ADA\\\\5_modulo\\\\ada-santander-projeto-analytics-engineering\\\\gx\\\\expectations/raw_suite_review.json'"
      ]
     },
     "execution_count": 80,
     "metadata": {},
     "output_type": "execute_result"
    }
   ],
   "source": [
    "from great_expectations.core.expectation_configuration import ExpectationConfiguration\n",
    "\n",
    "reviews_columns = ['listing_id', 'id', 'date', 'reviewer_id', 'reviewer_name', 'comments']\n",
    "\n",
    "ec_1 = ExpectationConfiguration(\n",
    "    expectation_type=\"expect_table_columns_to_match_set\",\n",
    "    kwargs={\n",
    "        \"column_set\": reviews_columns,\n",
    "    },\n",
    "    meta={\n",
    "        \"notes\": {\n",
    "            \"format\": \"markdown\",\n",
    "            \"content\": \"Verificação dos nomes das coluna de Review.\",\n",
    "        }\n",
    "    },\n",
    ")\n",
    "raw_suite_review.add_expectation(expectation_configuration=ec_1)\n",
    "\n",
    "for c in reviews_columns:\n",
    "    ec = ExpectationConfiguration(\n",
    "        expectation_type=\"expect_column_values_to_not_be_null\",\n",
    "        kwargs={\n",
    "            \"column\": c,\n",
    "        },\n",
    "        meta={\n",
    "            \"notes\": {\n",
    "                \"format\": \"markdown\",\n",
    "                \"content\": \"Verificação dos nomes das coluna de Review.\",\n",
    "            }\n",
    "        },\n",
    "    )\n",
    "    raw_suite_review.add_expectation(expectation_configuration=ec)\n",
    "\n",
    "\n",
    "context.save_expectation_suite(expectation_suite=raw_suite_review)"
   ]
  },
  {
   "cell_type": "code",
   "execution_count": null,
   "metadata": {},
   "outputs": [],
   "source": [
    "# Leitura dos dados do Banco de Dados\n",
    "# TODO leitura do banco"
   ]
  },
  {
   "cell_type": "code",
   "execution_count": null,
   "metadata": {},
   "outputs": [],
   "source": [
    "# ======== VALIDAÇÃO ========\n",
    "# Setup datasource (engine)\n",
    "datasource_name = 'fs_raw'\n",
    "datasource = context.sources.add_pandas(datasource_name)\n",
    "\n",
    "asset_name = 'fs_raw_reviews_asset'\n",
    "data_path = r'.\\data\\reviews.csv.gz'\n",
    "asset = datasource.add_csv_asset(asset_name, filepath_or_buffer=data_path)\n",
    "\n",
    "# Build batch request\n",
    "batch_request = asset.build_batch_request()"
   ]
  },
  {
   "cell_type": "code",
   "execution_count": 81,
   "metadata": {},
   "outputs": [
    {
     "data": {
      "application/vnd.jupyter.widget-view+json": {
       "model_id": "65e1dfc288ba49a386e0852f94766d83",
       "version_major": 2,
       "version_minor": 0
      },
      "text/plain": [
       "Calculating Metrics:   0%|          | 0/33 [00:00<?, ?it/s]"
      ]
     },
     "metadata": {},
     "output_type": "display_data"
    }
   ],
   "source": [
    "# Validação dos dados\n",
    "checkpoint = context.add_or_update_checkpoint(\n",
    "    name=\"reviews_fs_raw\",\n",
    "    batch_request=batch_request,\n",
    "    expectation_suite_name=\"raw_suite_review\",\n",
    ")\n",
    "\n",
    "# Validating\n",
    "checkpoint_result_raw_review = checkpoint.run(run_name='raw.review')"
   ]
  },
  {
   "cell_type": "code",
   "execution_count": 73,
   "metadata": {},
   "outputs": [
    {
     "data": {
      "text/plain": [
       "{\n",
       "  \"run_id\": {\n",
       "    \"run_name\": \"raw.review\",\n",
       "    \"run_time\": \"2023-10-25T18:08:58.101014-03:00\"\n",
       "  },\n",
       "  \"run_results\": {\n",
       "    \"ValidationResultIdentifier::raw_suite_review/raw.review/20231025T210858.101014Z/reviews_fs_raw-reviews_fs_raw_asset\": {\n",
       "      \"validation_result\": {\n",
       "        \"success\": true,\n",
       "        \"results\": [\n",
       "          {\n",
       "            \"success\": true,\n",
       "            \"expectation_config\": {\n",
       "              \"expectation_type\": \"expect_table_columns_to_match_set\",\n",
       "              \"kwargs\": {\n",
       "                \"column_set\": [\n",
       "                  \"listing_id\",\n",
       "                  \"id\",\n",
       "                  \"date\",\n",
       "                  \"reviewer_id\",\n",
       "                  \"reviewer_name\",\n",
       "                  \"comments\"\n",
       "                ],\n",
       "                \"batch_id\": \"reviews_fs_raw-reviews_fs_raw_asset\"\n",
       "              },\n",
       "              \"meta\": {\n",
       "                \"notes\": {\n",
       "                  \"content\": \"Verifica\\u00e7\\u00e3o dos nomes das coluna de Review.\",\n",
       "                  \"format\": \"markdown\"\n",
       "                }\n",
       "              }\n",
       "            },\n",
       "            \"result\": {\n",
       "              \"observed_value\": [\n",
       "                \"listing_id\",\n",
       "                \"id\",\n",
       "                \"date\",\n",
       "                \"reviewer_id\",\n",
       "                \"reviewer_name\",\n",
       "                \"comments\"\n",
       "              ]\n",
       "            },\n",
       "            \"meta\": {},\n",
       "            \"exception_info\": {\n",
       "              \"raised_exception\": false,\n",
       "              \"exception_traceback\": null,\n",
       "              \"exception_message\": null\n",
       "            }\n",
       "          }\n",
       "        ],\n",
       "        \"evaluation_parameters\": {},\n",
       "        \"statistics\": {\n",
       "          \"evaluated_expectations\": 1,\n",
       "          \"successful_expectations\": 1,\n",
       "          \"unsuccessful_expectations\": 0,\n",
       "          \"success_percent\": 100.0\n",
       "        },\n",
       "        \"meta\": {\n",
       "          \"great_expectations_version\": \"0.17.23\",\n",
       "          \"expectation_suite_name\": \"raw_suite_review\",\n",
       "          \"run_id\": {\n",
       "            \"run_name\": \"raw.review\",\n",
       "            \"run_time\": \"2023-10-25T18:08:58.101014-03:00\"\n",
       "          },\n",
       "          \"batch_spec\": {\n",
       "            \"reader_method\": \"read_csv\",\n",
       "            \"reader_options\": {\n",
       "              \"filepath_or_buffer\": \"data\\\\reviews.csv.gz\"\n",
       "            }\n",
       "          },\n",
       "          \"batch_markers\": {\n",
       "            \"ge_load_time\": \"20231025T210858.209361Z\",\n",
       "            \"pandas_data_fingerprint\": \"c3ced9b22e4454f0bd45be3a73204463\"\n",
       "          },\n",
       "          \"active_batch_definition\": {\n",
       "            \"datasource_name\": \"reviews_fs_raw\",\n",
       "            \"data_connector_name\": \"fluent\",\n",
       "            \"data_asset_name\": \"reviews_fs_raw_asset\",\n",
       "            \"batch_identifiers\": {}\n",
       "          },\n",
       "          \"validation_time\": \"20231025T210909.761158Z\",\n",
       "          \"checkpoint_name\": \"reviews_fs_raw\",\n",
       "          \"validation_id\": null,\n",
       "          \"checkpoint_id\": null\n",
       "        }\n",
       "      },\n",
       "      \"actions_results\": {\n",
       "        \"store_validation_result\": {\n",
       "          \"class\": \"StoreValidationResultAction\"\n",
       "        },\n",
       "        \"store_evaluation_params\": {\n",
       "          \"class\": \"StoreEvaluationParametersAction\"\n",
       "        },\n",
       "        \"update_data_docs\": {\n",
       "          \"local_site\": \"file://c:\\\\Users\\\\RosaLux\\\\Downloads\\\\LIXO\\\\__DESENVOLVE\\\\_ADA\\\\5_modulo\\\\ada-santander-projeto-analytics-engineering\\\\gx\\\\uncommitted/data_docs/local_site/validations%5Craw_suite_review%5Craw.review%5C20231025T210858.101014Z%5Creviews_fs_raw-reviews_fs_raw_asset.html\",\n",
       "          \"class\": \"UpdateDataDocsAction\"\n",
       "        }\n",
       "      }\n",
       "    }\n",
       "  },\n",
       "  \"checkpoint_config\": {\n",
       "    \"expectation_suite_ge_cloud_id\": null,\n",
       "    \"site_names\": null,\n",
       "    \"config_version\": 1.0,\n",
       "    \"template_name\": null,\n",
       "    \"notify_with\": null,\n",
       "    \"validations\": [],\n",
       "    \"evaluation_parameters\": {},\n",
       "    \"batch_request\": {\n",
       "      \"datasource_name\": \"reviews_fs_raw\",\n",
       "      \"data_asset_name\": \"reviews_fs_raw_asset\"\n",
       "    },\n",
       "    \"expectation_suite_name\": \"raw_suite_review\",\n",
       "    \"name\": \"reviews_fs_raw\",\n",
       "    \"runtime_configuration\": {},\n",
       "    \"default_validation_id\": null,\n",
       "    \"action_list\": [\n",
       "      {\n",
       "        \"name\": \"store_validation_result\",\n",
       "        \"action\": {\n",
       "          \"class_name\": \"StoreValidationResultAction\"\n",
       "        }\n",
       "      },\n",
       "      {\n",
       "        \"name\": \"store_evaluation_params\",\n",
       "        \"action\": {\n",
       "          \"class_name\": \"StoreEvaluationParametersAction\"\n",
       "        }\n",
       "      },\n",
       "      {\n",
       "        \"name\": \"update_data_docs\",\n",
       "        \"action\": {\n",
       "          \"class_name\": \"UpdateDataDocsAction\"\n",
       "        }\n",
       "      }\n",
       "    ],\n",
       "    \"module_name\": \"great_expectations.checkpoint\",\n",
       "    \"run_name_template\": null,\n",
       "    \"ge_cloud_id\": null,\n",
       "    \"class_name\": \"Checkpoint\",\n",
       "    \"notify_on\": null,\n",
       "    \"profilers\": [],\n",
       "    \"slack_webhook\": null\n",
       "  },\n",
       "  \"success\": true\n",
       "}"
      ]
     },
     "execution_count": 73,
     "metadata": {},
     "output_type": "execute_result"
    }
   ],
   "source": [
    "checkpoint_result_raw_review"
   ]
  },
  {
   "cell_type": "markdown",
   "metadata": {},
   "source": [
    "## **MONITORAMENTO SILVER**"
   ]
  }
 ],
 "metadata": {
  "kernelspec": {
   "display_name": ".venv",
   "language": "python",
   "name": "python3"
  },
  "language_info": {
   "codemirror_mode": {
    "name": "ipython",
    "version": 3
   },
   "file_extension": ".py",
   "mimetype": "text/x-python",
   "name": "python",
   "nbconvert_exporter": "python",
   "pygments_lexer": "ipython3",
   "version": "3.10.7"
  }
 },
 "nbformat": 4,
 "nbformat_minor": 2
}
